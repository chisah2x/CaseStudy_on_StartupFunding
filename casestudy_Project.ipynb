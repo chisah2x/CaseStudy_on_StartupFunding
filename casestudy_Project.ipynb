{
 "cells": [
  {
   "cell_type": "markdown",
   "metadata": {
    "id": "62-l0JlOKKu1"
   },
   "source": [
    "# Project : Case Study (Part - I) "
   ]
  },
  {
   "cell_type": "markdown",
   "metadata": {
    "id": "ar7n2EuAKXWK"
   },
   "source": [
    "### Dataset details:"
   ]
  },
  {
   "cell_type": "markdown",
   "metadata": {
    "id": "Tpfme14AKrJw"
   },
   "source": [
    "'''\n",
    "This dataset has funding information of the Indian startups from January 2015 to August 2017.\n",
    "\n",
    "Feature Details :\n",
    "\n",
    "SNo - Serial number.\n",
    "\n",
    "Date - Date of funding in format DD/MM/YYYY.\n",
    "\n",
    "StartupName - Name of the startup which got funded.\n",
    "\n",
    "IndustryVertical - Industry to which the startup belongs.\n",
    "\n",
    "SubVertical - Sub-category of the industry type.\n",
    "\n",
    "CityLocation - City which the startup is based out of.\n",
    "\n",
    "InvestorsName - Name of the investors involved in the funding round.\n",
    "\n",
    "InvestmentType - Either Private Equity or Seed Funding.\n",
    "\n",
    "AmountInUSD - Funding Amount in USD.\n",
    "\n",
    "Remarks - Other information, if any.\n",
    "\n",
    "Insights -\n",
    "\n",
    "Find out what type of startups are getting funded in the last few years?\n",
    "\n",
    "Who are the important investors?\n",
    "\n",
    "What are the hot fields that get a lot of funding these days?\n",
    "'''"
   ]
  },
  {
   "cell_type": "markdown",
   "metadata": {
    "id": "El8GvcgN2WHN"
   },
   "source": [
    "#### Number of Fundings\n",
    "Check the trend of investments over the years"
   ]
  },
  {
   "cell_type": "markdown",
   "metadata": {
    "id": "Sb0soDZ7tfhy"
   },
   "source": [
    "###without pandas"
   ]
  },
  {
   "cell_type": "code",
   "execution_count": null,
   "metadata": {
    "colab": {
     "base_uri": "https://localhost:8080/"
    },
    "id": "YQh0A2nm2dFa",
    "outputId": "3811c29d-fed6-44c1-ad2c-b166e861e306"
   },
   "outputs": [
    {
     "data": {
      "text/plain": [
       "{2015.0: 8673022368.0, 2016.0: 3828088608.0, 2017.0: 5846275500.0}"
      ]
     },
     "execution_count": 23,
     "metadata": {},
     "output_type": "execute_result"
    }
   ],
   "source": [
    "def strtostr(s):\n",
    "    newStr=\"\"\n",
    "    for i in range(len(s)):\n",
    "        if s[i] != ',':\n",
    "            newStr += s[i]\n",
    "    return newStr\n",
    "\n",
    "import csv\n",
    "path = '/content/drive/MyDrive/Colab Notebooks/14startup_funding.csv'\n",
    "with open(path) as file_obj:\n",
    "    file_dict = csv.DictReader(file_obj, skipinitialspace=True)\n",
    "    yearWiseInv = {}\n",
    "    for row in file_dict:\n",
    "        date = row['Date'].strip()\n",
    "        if date[6] == '/' or date[6]=='.':\n",
    "            year = float(date[7:])\n",
    "        elif date[4] == '/' or date[4]=='.':\n",
    "            year = float(date[5:])\n",
    "        else:\n",
    "            year = float(date[6:])\n",
    "\n",
    "        fund = row['AmountInUSD']\n",
    "        if fund=='':\n",
    "            fund=0\n",
    "        else:\n",
    "            fund = strtostr(fund)\n",
    "\n",
    "        if year in yearWiseInv:\n",
    "            yearWiseInv[year] += float(fund)\n",
    "        else:\n",
    "            yearWiseInv[year] = float(fund)\n",
    "yearWiseInv"
   ]
  },
  {
   "cell_type": "code",
   "execution_count": null,
   "metadata": {
    "colab": {
     "base_uri": "https://localhost:8080/"
    },
    "id": "ANMSf4aP4kcO",
    "outputId": "b83789ca-e9fe-430c-95f4-f91a75bc21a2"
   },
   "outputs": [
    {
     "name": "stdout",
     "output_type": "stream",
     "text": [
      "[2015 2016 2017]\n",
      "[8673022368 3828088608 5846275500]\n"
     ]
    }
   ],
   "source": [
    "import numpy as np\n",
    "year = np.array(list(yearWiseInv.keys()), dtype=int)\n",
    "year[0],year[2] = year[2],year[0]\n",
    "print(year)\n",
    "fund = np.array(list(yearWiseInv.values()), dtype=int)\n",
    "fund[0],fund[2] = fund[2],fund[0]\n",
    "print(fund)"
   ]
  },
  {
   "cell_type": "code",
   "execution_count": null,
   "metadata": {
    "colab": {
     "base_uri": "https://localhost:8080/",
     "height": 310
    },
    "id": "7qYhRlJ--HiN",
    "outputId": "cd5660e2-f45e-4f42-9593-1f65a4529d65"
   },
   "outputs": [
    {
     "data": {
      "image/png": "[encoded data removed]",
      "text/plain": [
       "<Figure size 432x288 with 1 Axes>"
      ]
     },
     "metadata": {
      "needs_background": "light"
     },
     "output_type": "display_data"
    }
   ],
   "source": [
    "import matplotlib.pyplot as plt\n",
    "plt.plot(year, fund, marker= 'o')\n",
    "plt.xticks(year)\n",
    "plt.xlabel(\"year\")\n",
    "plt.ylabel(\"No of funding round\")\n",
    "plt.title(\"Year vs No of funding round\")\n",
    "plt.xticks(rotation=45)\n",
    "plt.show()"
   ]
  },
  {
   "cell_type": "markdown",
   "metadata": {
    "id": "nn59knTMC8Lm"
   },
   "source": [
    "Total number of fundings done in each year."
   ]
  },
  {
   "cell_type": "code",
   "execution_count": null,
   "metadata": {
    "colab": {
     "base_uri": "https://localhost:8080/"
    },
    "id": "h0wSB5eDBNvM",
    "outputId": "a7760253-b0c1-46a9-dee5-fb1c96bdca68"
   },
   "outputs": [
    {
     "data": {
      "text/plain": [
       "{2015.0: 936, 2016.0: 993, 2017.0: 443}"
      ]
     },
     "execution_count": 36,
     "metadata": {},
     "output_type": "execute_result"
    }
   ],
   "source": [
    "import csv\n",
    "path = '/content/drive/MyDrive/Colab Notebooks/14startup_funding.csv'\n",
    "with open(path) as file_obj:\n",
    "    file_dict = csv.DictReader(file_obj, skipinitialspace=True)\n",
    "    yearWiseInv = {}\n",
    "    for row in file_dict:\n",
    "        date = row['Date'].strip()\n",
    "        if date[6] == '/' or date[6]=='.':\n",
    "            year = float(date[7:])\n",
    "        elif date[4] == '/' or date[4]=='.':\n",
    "            year = float(date[5:])\n",
    "        else:\n",
    "            year = float(date[6:])\n",
    "\n",
    "\n",
    "        if year in yearWiseInv:\n",
    "            yearWiseInv[year] += 1\n",
    "        else:\n",
    "            yearWiseInv[year] = 1\n",
    "yearWiseInv"
   ]
  },
  {
   "cell_type": "code",
   "execution_count": null,
   "metadata": {
    "colab": {
     "base_uri": "https://localhost:8080/",
     "height": 362
    },
    "id": "OM0IWi-oCW9O",
    "outputId": "ba3778e6-9284-4945-93e1-24575a389afd"
   },
   "outputs": [
    {
     "data": {
      "image/png": "[encoded data removed]",
      "text/plain": [
       "<Figure size 432x288 with 1 Axes>"
      ]
     },
     "metadata": {
      "needs_background": "light"
     },
     "output_type": "display_data"
    },
    {
     "name": "stdout",
     "output_type": "stream",
     "text": [
      "2015 936\n",
      "2016 993\n",
      "2017 443\n"
     ]
    }
   ],
   "source": [
    "import numpy as np\n",
    "year = np.array(list(yearWiseInv.keys()), dtype=int)\n",
    "year[0],year[2] = year[2],year[0]\n",
    "fund = np.array(list(yearWiseInv.values()), dtype=int)\n",
    "fund[0],fund[2] = fund[2],fund[0]\n",
    "\n",
    "import matplotlib.pyplot as plt\n",
    "plt.plot(year, fund, marker= 'o')\n",
    "plt.xticks(year)\n",
    "plt.xlabel(\"year\")\n",
    "plt.ylabel(\"No of funding round\")\n",
    "plt.title(\"Year vs No of funding round\")\n",
    "plt.xticks(rotation=45)\n",
    "plt.show()\n",
    "for i in range(3):\n",
    "    print(year[i], fund[i])"
   ]
  },
  {
   "cell_type": "markdown",
   "metadata": {
    "id": "nLMXS5Vutj26"
   },
   "source": [
    "###with pandas"
   ]
  },
  {
   "cell_type": "code",
   "execution_count": null,
   "metadata": {
    "id": "CJJvkp7OtmDo"
   },
   "outputs": [],
   "source": [
    "path = '/content/drive/MyDrive/Colab Notebooks/14startup_funding.csv'\n",
    "import pandas as pd\n",
    "import numpy as np\n",
    "import matplotlib.pyplot as plt\n",
    "data = pd.read_csv(path)\n",
    "df = data.copy()"
   ]
  },
  {
   "cell_type": "code",
   "execution_count": null,
   "metadata": {
    "colab": {
     "base_uri": "https://localhost:8080/"
    },
    "id": "-ioVMoSBt0zb",
    "outputId": "186c6d9a-4402-40e7-abfe-c65998e9395a"
   },
   "outputs": [
    {
     "data": {
      "text/plain": [
       "Index(['SNo', 'Date', 'StartupName', 'IndustryVertical', 'SubVertical',\n",
       "       'CityLocation', 'InvestorsName', 'InvestmentType', 'AmountInUSD',\n",
       "       'Remarks'],\n",
       "      dtype='object')"
      ]
     },
     "execution_count": 3,
     "metadata": {},
     "output_type": "execute_result"
    }
   ],
   "source": [
    "df.columns"
   ]
  },
  {
   "cell_type": "code",
   "execution_count": null,
   "metadata": {
    "colab": {
     "base_uri": "https://localhost:8080/",
     "height": 112
    },
    "id": "4CjcPZH0t0v_",
    "outputId": "4a1833eb-2935-4864-fc31-a0c93eb3ce84"
   },
   "outputs": [
    {
     "data": {
      "text/html": [
       "\n",
       "  <div id=\"df-70e5356a-7270-4e74-9546-05d2f334420d\">\n",
       "    <div class=\"colab-df-container\">\n",
       "      <div>\n",
       "<style scoped>\n",
       "    .dataframe tbody tr th:only-of-type {\n",
       "        vertical-align: middle;\n",
       "    }\n",
       "\n",
       "    .dataframe tbody tr th {\n",
       "        vertical-align: top;\n",
       "    }\n",
       "\n",
       "    .dataframe thead th {\n",
       "        text-align: right;\n",
       "    }\n",
       "</style>\n",
       "<table border=\"1\" class=\"dataframe\">\n",
       "  <thead>\n",
       "    <tr style=\"text-align: right;\">\n",
       "      <th></th>\n",
       "      <th>SNo</th>\n",
       "      <th>Date</th>\n",
       "      <th>StartupName</th>\n",
       "      <th>IndustryVertical</th>\n",
       "      <th>SubVertical</th>\n",
       "      <th>CityLocation</th>\n",
       "      <th>InvestorsName</th>\n",
       "      <th>InvestmentType</th>\n",
       "      <th>AmountInUSD</th>\n",
       "      <th>Remarks</th>\n",
       "      <th>Year</th>\n",
       "    </tr>\n",
       "  </thead>\n",
       "  <tbody>\n",
       "    <tr>\n",
       "      <th>0</th>\n",
       "      <td>0</td>\n",
       "      <td>01/08/2017</td>\n",
       "      <td>TouchKin</td>\n",
       "      <td>Technology</td>\n",
       "      <td>Predictive Care Platform</td>\n",
       "      <td>Bangalore</td>\n",
       "      <td>Kae Capital</td>\n",
       "      <td>Private Equity</td>\n",
       "      <td>1,300,000</td>\n",
       "      <td>NaN</td>\n",
       "      <td>2017</td>\n",
       "    </tr>\n",
       "    <tr>\n",
       "      <th>1</th>\n",
       "      <td>1</td>\n",
       "      <td>02/08/2017</td>\n",
       "      <td>Ethinos</td>\n",
       "      <td>Technology</td>\n",
       "      <td>Digital Marketing Agency</td>\n",
       "      <td>Mumbai</td>\n",
       "      <td>Triton Investment Advisors</td>\n",
       "      <td>Private Equity</td>\n",
       "      <td>NaN</td>\n",
       "      <td>NaN</td>\n",
       "      <td>2017</td>\n",
       "    </tr>\n",
       "  </tbody>\n",
       "</table>\n",
       "</div>\n",
       "      <button class=\"colab-df-convert\" onclick=\"convertToInteractive('df-70e5356a-7270-4e74-9546-05d2f334420d')\"\n",
       "              title=\"Convert this dataframe to an interactive table.\"\n",
       "              style=\"display:none;\">\n",
       "        \n",
       "  <svg xmlns=\"http://www.w3.org/2000/svg\" height=\"24px\"viewBox=\"0 0 24 24\"\n",
       "       width=\"24px\">\n",
       "    <path d=\"M0 0h24v24H0V0z\" fill=\"none\"/>\n",
       "    <path d=\"M18.56 5.44l.94 2.06.94-2.06 2.06-.94-2.06-.94-.94-2.06-.94 2.06-2.06.94zm-11 1L8.5 8.5l.94-2.06 2.06-.94-2.06-.94L8.5 2.5l-.94 2.06-2.06.94zm10 10l.94 2.06.94-2.06 2.06-.94-2.06-.94-.94-2.06-.94 2.06-2.06.94z\"/><path d=\"M17.41 7.96l-1.37-1.37c-.4-.4-.92-.59-1.43-.59-.52 0-1.04.2-1.43.59L10.3 9.45l-7.72 7.72c-.78.78-.78 2.05 0 2.83L4 21.41c.39.39.9.59 1.41.59.51 0 1.02-.2 1.41-.59l7.78-7.78 2.81-2.81c.8-.78.8-2.07 0-2.86zM5.41 20L4 18.59l7.72-7.72 1.47 1.35L5.41 20z\"/>\n",
       "  </svg>\n",
       "      </button>\n",
       "      \n",
       "  <style>\n",
       "    .colab-df-container {\n",
       "      display:flex;\n",
       "      flex-wrap:wrap;\n",
       "      gap: 12px;\n",
       "    }\n",
       "\n",
       "    .colab-df-convert {\n",
       "      background-color: #E8F0FE;\n",
       "      border: none;\n",
       "      border-radius: 50%;\n",
       "      cursor: pointer;\n",
       "      display: none;\n",
       "      fill: #1967D2;\n",
       "      height: 32px;\n",
       "      padding: 0 0 0 0;\n",
       "      width: 32px;\n",
       "    }\n",
       "\n",
       "    .colab-df-convert:hover {\n",
       "      background-color: #E2EBFA;\n",
       "      box-shadow: 0px 1px 2px rgba(60, 64, 67, 0.3), 0px 1px 3px 1px rgba(60, 64, 67, 0.15);\n",
       "      fill: #174EA6;\n",
       "    }\n",
       "\n",
       "    [theme=dark] .colab-df-convert {\n",
       "      background-color: #3B4455;\n",
       "      fill: #D2E3FC;\n",
       "    }\n",
       "\n",
       "    [theme=dark] .colab-df-convert:hover {\n",
       "      background-color: #434B5C;\n",
       "      box-shadow: 0px 1px 3px 1px rgba(0, 0, 0, 0.15);\n",
       "      filter: drop-shadow(0px 1px 2px rgba(0, 0, 0, 0.3));\n",
       "      fill: #FFFFFF;\n",
       "    }\n",
       "  </style>\n",
       "\n",
       "      <script>\n",
       "        const buttonEl =\n",
       "          document.querySelector('#df-70e5356a-7270-4e74-9546-05d2f334420d button.colab-df-convert');\n",
       "        buttonEl.style.display =\n",
       "          google.colab.kernel.accessAllowed ? 'block' : 'none';\n",
       "\n",
       "        async function convertToInteractive(key) {\n",
       "          const element = document.querySelector('#df-70e5356a-7270-4e74-9546-05d2f334420d');\n",
       "          const dataTable =\n",
       "            await google.colab.kernel.invokeFunction('convertToInteractive',\n",
       "                                                     [key], {});\n",
       "          if (!dataTable) return;\n",
       "\n",
       "          const docLinkHtml = 'Like what you see? Visit the ' +\n",
       "            '<a target=\"_blank\" href=https://colab.research.google.com/notebooks/data_table.ipynb>data table notebook</a>'\n",
       "            + ' to learn more about interactive tables.';\n",
       "          element.innerHTML = '';\n",
       "          dataTable['output_type'] = 'display_data';\n",
       "          await google.colab.output.renderOutput(dataTable, element);\n",
       "          const docLink = document.createElement('div');\n",
       "          docLink.innerHTML = docLinkHtml;\n",
       "          element.appendChild(docLink);\n",
       "        }\n",
       "      </script>\n",
       "    </div>\n",
       "  </div>\n",
       "  "
      ],
      "text/plain": [
       "   SNo        Date StartupName IndustryVertical               SubVertical  \\\n",
       "0    0  01/08/2017    TouchKin       Technology  Predictive Care Platform   \n",
       "1    1  02/08/2017     Ethinos       Technology  Digital Marketing Agency   \n",
       "\n",
       "  CityLocation               InvestorsName  InvestmentType AmountInUSD  \\\n",
       "0    Bangalore                 Kae Capital  Private Equity   1,300,000   \n",
       "1       Mumbai  Triton Investment Advisors  Private Equity         NaN   \n",
       "\n",
       "  Remarks  Year  \n",
       "0     NaN  2017  \n",
       "1     NaN  2017  "
      ]
     },
     "execution_count": 4,
     "metadata": {},
     "output_type": "execute_result"
    }
   ],
   "source": [
    "df.Date.replace(\"12/05.2015\", \"12/05/2015\", inplace = True)\n",
    "df.Date.replace(\"13/04.2015\", \"13/04/2015\", inplace = True)\n",
    "df.Date.replace(\"15/01.2015\", \"15/01/2015\", inplace = True)\n",
    "df.Date.replace(\"22/01//2015\", \"22/01/2015\", inplace = True)\n",
    "\n",
    "def convertDate(date):\n",
    "    return date.split('/')[-1]\n",
    "\n",
    "df['Year'] = df['Date'].apply(convertDate)\n",
    "\n",
    "df.head(2)"
   ]
  },
  {
   "cell_type": "code",
   "execution_count": null,
   "metadata": {
    "colab": {
     "base_uri": "https://localhost:8080/"
    },
    "id": "ZFYdZnFht0su",
    "outputId": "a12ba731-c99d-44bf-834c-9f1d1cc394d0"
   },
   "outputs": [
    {
     "data": {
      "text/plain": [
       "2016    993\n",
       "2015    936\n",
       "2017    443\n",
       "Name: Year, dtype: int64"
      ]
     },
     "execution_count": 5,
     "metadata": {},
     "output_type": "execute_result"
    }
   ],
   "source": [
    "year_count = df.Year.value_counts()\n",
    "year_count"
   ]
  },
  {
   "cell_type": "code",
   "execution_count": null,
   "metadata": {
    "colab": {
     "base_uri": "https://localhost:8080/"
    },
    "id": "VOcwHxUauIfI",
    "outputId": "e53518a9-bf09-4ecc-e7d3-1e830e5fea45"
   },
   "outputs": [
    {
     "data": {
      "text/plain": [
       "<zip at 0x7f853c5da0f0>"
      ]
     },
     "execution_count": 6,
     "metadata": {},
     "output_type": "execute_result"
    }
   ],
   "source": [
    "zip(year_count.index, year_count.values)"
   ]
  },
  {
   "cell_type": "code",
   "execution_count": null,
   "metadata": {
    "colab": {
     "base_uri": "https://localhost:8080/"
    },
    "id": "br0GB2VCuIbr",
    "outputId": "fbb72b9d-ef63-4665-fe91-cc41c61d0f3e"
   },
   "outputs": [
    {
     "data": {
      "text/plain": [
       "[('2016', 993), ('2015', 936), ('2017', 443)]"
      ]
     },
     "execution_count": 7,
     "metadata": {},
     "output_type": "execute_result"
    }
   ],
   "source": [
    "list(zip(year_count.index, year_count.values))"
   ]
  },
  {
   "cell_type": "code",
   "execution_count": null,
   "metadata": {
    "colab": {
     "base_uri": "https://localhost:8080/"
    },
    "id": "8QHcqAH6uIZE",
    "outputId": "7fb14480-025c-4429-effb-cb8405e9bbf8"
   },
   "outputs": [
    {
     "name": "stdout",
     "output_type": "stream",
     "text": [
      "2015 936\n",
      "2016 993\n",
      "2017 443\n"
     ]
    }
   ],
   "source": [
    "year_fund = list(zip(year_count.index, year_count.values))\n",
    "year_fund = np.array(year_fund, dtype = int)\n",
    "year_fund = year_fund[year_fund[:, 0].argsort()]\n",
    "year = year_fund[:, 0]\n",
    "funding_round = year_fund[:,1]\n",
    "for i in range(3):\n",
    "    print(year[i], funding_round[i])"
   ]
  },
  {
   "cell_type": "code",
   "execution_count": null,
   "metadata": {
    "colab": {
     "base_uri": "https://localhost:8080/",
     "height": 310
    },
    "id": "FAsteOgZuIWd",
    "outputId": "51fe66d4-5a52-4e7b-ac99-0e31c3ec54b2"
   },
   "outputs": [
    {
     "data": {
      "image/png": "[encoded data removed]",
      "text/plain": [
       "<Figure size 432x288 with 1 Axes>"
      ]
     },
     "metadata": {
      "needs_background": "light"
     },
     "output_type": "display_data"
    }
   ],
   "source": [
    "plt.plot(year, funding_round, marker = 'o')\n",
    "plt.xticks(year)\n",
    "plt.xlabel(\"year\")\n",
    "plt.ylabel(\"No of funding round\")\n",
    "plt.title(\"Year vs No of funding round\")\n",
    "plt.xticks(rotation=45)\n",
    "plt.show()"
   ]
  },
  {
   "cell_type": "markdown",
   "metadata": {
    "id": "JZFWhIaPE05e"
   },
   "source": [
    "#### Top Indian Cities\n",
    "Find top 10 Indian cities which have most number of startups ?"
   ]
  },
  {
   "cell_type": "code",
   "execution_count": null,
   "metadata": {
    "id": "sLXYmhnGE7g6"
   },
   "outputs": [],
   "source": [
    "'''\n",
    "Note : Take city name \"Delhi\" as \"New Delhi\".\n",
    "Check the case-sensitiveness of cities also. That means - at some place, instead of \"Bangalore\", \"bangalore\" \n",
    "is given. Take city name as \"Bangalore\".\n",
    "For few startups multiple locations are given, one Indian and one Foreign. Count those startups in Indian \n",
    "startup also. Indian city name is first. Print the city in descending order with respect to the \n",
    "number of startups.\n",
    "Output Format :\n",
    "city1 number1\n",
    "city2 number2\n",
    "'''"
   ]
  },
  {
   "cell_type": "code",
   "execution_count": null,
   "metadata": {
    "id": "4ttlOSyqDAB9"
   },
   "outputs": [],
   "source": [
    "path = '/content/drive/MyDrive/Colab Notebooks/14startup_funding.csv'\n",
    "import pandas as pd\n",
    "import numpy as np\n",
    "import matplotlib.pyplot as plt\n",
    "data = pd.read_csv(path)\n",
    "df = data.copy()"
   ]
  },
  {
   "cell_type": "markdown",
   "metadata": {
    "id": "oRIzLbHyu9jB"
   },
   "source": [
    "### dropna is not working so\n",
    "\n",
    "```\n",
    "df['CityLocation'].fillna('',inplace=True)\n",
    "df['CityLocation'].dropna('',inplace=True)\n",
    "for i in range(len(city)):\n",
    "    if(city[i] == ''):\n",
    "        continue\n",
    "    print(city[i],number[i])\n",
    "```\n",
    "\n"
   ]
  },
  {
   "cell_type": "code",
   "execution_count": null,
   "metadata": {
    "colab": {
     "base_uri": "https://localhost:8080/"
    },
    "id": "gDmHHH3Gl5Ns",
    "outputId": "d4029fbe-1288-4461-bfc8-76b7e85ae961"
   },
   "outputs": [
    {
     "name": "stdout",
     "output_type": "stream",
     "text": [
      "Bangalore 635\n",
      "Mumbai 449\n",
      "New Delhi 389\n",
      "Gurgaon 241\n",
      "Pune 91\n",
      "Noida 79\n",
      "Hyderabad 77\n",
      "Chennai 67\n",
      "Ahmedabad 35\n",
      "Jaipur 25\n"
     ]
    },
    {
     "name": "stderr",
     "output_type": "stream",
     "text": [
      "/usr/local/lib/python3.7/dist-packages/ipykernel_launcher.py:2: FutureWarning: In a future version of pandas all arguments of Series.dropna will be keyword-only\n",
      "  \n"
     ]
    }
   ],
   "source": [
    "df['CityLocation'].fillna('',inplace=True)\n",
    "df['CityLocation'].dropna('',inplace=True)\n",
    "def separateCity(city):\n",
    "    return city.split('/')[0].strip()\n",
    "df['CityLocation'] = df['CityLocation'].apply(separateCity)\n",
    "df['CityLocation'].replace(\"Delhi\",\"New Delhi\",inplace = True)\n",
    "df['CityLocation'].replace(\"bangalore\",\"Bangalore\",inplace = True)\n",
    "city = df['CityLocation'].value_counts()[:10]\n",
    "number = city.values\n",
    "city = city.index\n",
    "for i in range(len(city)):\n",
    "    if(city[i] == ''):\n",
    "        continue\n",
    "    print(city[i],number[i])"
   ]
  },
  {
   "cell_type": "markdown",
   "metadata": {
    "id": "4qp2Y0pMvYp6"
   },
   "source": [
    "###df['CityLocation'].fillna('', inplace = True)\n",
    "###df = df[df['CityLocation'] != '']"
   ]
  },
  {
   "cell_type": "code",
   "execution_count": null,
   "metadata": {
    "colab": {
     "base_uri": "https://localhost:8080/"
    },
    "id": "b_WH-uWu7K1w",
    "outputId": "08c432ab-8f10-4701-af42-ddc7b6379c18"
   },
   "outputs": [
    {
     "data": {
      "text/plain": [
       "Bangalore    635\n",
       "Mumbai       449\n",
       "New Delhi    389\n",
       "Gurgaon      241\n",
       "Pune          91\n",
       "Noida         79\n",
       "Hyderabad     77\n",
       "Chennai       67\n",
       "Ahmedabad     35\n",
       "Jaipur        25\n",
       "Name: CityLocation, dtype: int64"
      ]
     },
     "execution_count": 46,
     "metadata": {},
     "output_type": "execute_result"
    }
   ],
   "source": [
    "df['CityLocation'].fillna('', inplace = True)\n",
    "df = df[df['CityLocation'] != '']\n",
    "def separateCity(city):\n",
    "    return city.split('/')[0].strip()\n",
    "df['CityLocation'] = df['CityLocation'].apply(separateCity)\n",
    "df['CityLocation'].replace(\"Delhi\",\"New Delhi\",inplace = True)\n",
    "df['CityLocation'].replace(\"bangalore\",\"Bangalore\",inplace = True)\n",
    "city = df['CityLocation'].value_counts()[:10]\n",
    "city"
   ]
  },
  {
   "cell_type": "markdown",
   "metadata": {
    "id": "HAEPl7H3wA8l"
   },
   "source": [
    "###best option--->  df.dropna(subset = [\"CityLocation\"], inplace = True)"
   ]
  },
  {
   "cell_type": "code",
   "execution_count": null,
   "metadata": {
    "colab": {
     "base_uri": "https://localhost:8080/"
    },
    "id": "DuCHu_8cndbc",
    "outputId": "ebce996a-d5c9-46c4-e350-aef847f2b65b"
   },
   "outputs": [
    {
     "data": {
      "text/plain": [
       "Bangalore    635\n",
       "Mumbai       449\n",
       "New Delhi    389\n",
       "Gurgaon      241\n",
       "Pune          91\n",
       "Noida         79\n",
       "Hyderabad     77\n",
       "Chennai       67\n",
       "Ahmedabad     35\n",
       "Jaipur        25\n",
       "Name: CityLocation, dtype: int64"
      ]
     },
     "execution_count": 44,
     "metadata": {},
     "output_type": "execute_result"
    }
   ],
   "source": [
    "df = data.copy()\n",
    "df.dropna(subset = [\"CityLocation\"], inplace = True)\n",
    "def separateCity(city):\n",
    "    return city.split('/')[0].strip()\n",
    "df['CityLocation'] = df['CityLocation'].apply(separateCity)\n",
    "df['CityLocation'].replace(\"Delhi\",\"New Delhi\",inplace = True)\n",
    "df['CityLocation'].replace(\"bangalore\",\"Bangalore\",inplace = True)\n",
    "city = df['CityLocation'].value_counts()[:10]\n",
    "city"
   ]
  },
  {
   "cell_type": "code",
   "execution_count": null,
   "metadata": {
    "colab": {
     "base_uri": "https://localhost:8080/",
     "height": 249
    },
    "id": "BF3vpsquunNN",
    "outputId": "b25e9fc2-8317-4d4d-c4e1-2183c1155eb1"
   },
   "outputs": [
    {
     "data": {
      "image/png": "[encoded data removed]",
      "text/plain": [
       "<Figure size 432x288 with 1 Axes>"
      ]
     },
     "metadata": {},
     "output_type": "display_data"
    }
   ],
   "source": [
    "number = city.values\n",
    "city = city.index\n",
    "labels = []\n",
    "for i in city:\n",
    "    labels.append(i[:3])\n",
    "plt.pie(number,labels = labels,autopct='%0.0f%%',counterclock=False,startangle=90,explode = [0.1,0.1,0.1,0.1,0.1,0.1,0.1,0.1,0.1,0.1])\n",
    "plt.show()"
   ]
  },
  {
   "cell_type": "markdown",
   "metadata": {
    "id": "AMr8ABZRe7eZ"
   },
   "source": [
    "#### Funding amount"
   ]
  },
  {
   "cell_type": "code",
   "execution_count": null,
   "metadata": {
    "colab": {
     "base_uri": "https://localhost:8080/"
    },
    "id": "z7qcH2By7BK5",
    "outputId": "507b2cb0-3c3c-44c2-f2fe-fd8c4efedc50"
   },
   "outputs": [
    {
     "data": {
      "text/plain": [
       "Index(['SNo', 'Date', 'StartupName', 'IndustryVertical', 'SubVertical',\n",
       "       'CityLocation', 'InvestorsName', 'InvestmentType', 'AmountInUSD',\n",
       "       'Remarks'],\n",
       "      dtype='object')"
      ]
     },
     "execution_count": 25,
     "metadata": {},
     "output_type": "execute_result"
    }
   ],
   "source": [
    "path = '/content/drive/MyDrive/Colab Notebooks/14startup_funding.csv'\n",
    "import pandas as pd\n",
    "import numpy as np\n",
    "import matplotlib.pyplot as plt\n",
    "data = pd.read_csv(path)\n",
    "df = data.copy()\n",
    "df.columns"
   ]
  },
  {
   "cell_type": "code",
   "execution_count": null,
   "metadata": {
    "colab": {
     "base_uri": "https://localhost:8080/"
    },
    "id": "AhmXjRnfe-rf",
    "outputId": "5d05f911-b04d-4dc7-d743-1d6474e06999"
   },
   "outputs": [
    {
     "data": {
      "text/plain": [
       "0"
      ]
     },
     "execution_count": 26,
     "metadata": {},
     "output_type": "execute_result"
    }
   ],
   "source": [
    "df.dropna(subset = [\"CityLocation\", \"AmountInUSD\"], inplace = True)\n",
    "df.CityLocation.isna().sum()"
   ]
  },
  {
   "cell_type": "code",
   "execution_count": null,
   "metadata": {
    "colab": {
     "base_uri": "https://localhost:8080/",
     "height": 37
    },
    "id": "qOf2JoJapDfy",
    "outputId": "e649b4a4-1507-4a56-e0f4-e063a8fa0382"
   },
   "outputs": [
    {
     "data": {
      "application/vnd.google.colaboratory.intrinsic+json": {
       "type": "string"
      },
      "text/plain": [
       "'1,300,000'"
      ]
     },
     "execution_count": 29,
     "metadata": {},
     "output_type": "execute_result"
    }
   ],
   "source": [
    "a = df[\"AmountInUSD\"][0]\n",
    "a"
   ]
  },
  {
   "cell_type": "code",
   "execution_count": null,
   "metadata": {
    "colab": {
     "base_uri": "https://localhost:8080/",
     "height": 37
    },
    "id": "5BUpGuRJqD03",
    "outputId": "2778c5bf-2b3e-49db-beac-41c53d325ce8"
   },
   "outputs": [
    {
     "data": {
      "application/vnd.google.colaboratory.intrinsic+json": {
       "type": "string"
      },
      "text/plain": [
       "'1300000'"
      ]
     },
     "execution_count": 30,
     "metadata": {},
     "output_type": "execute_result"
    }
   ],
   "source": [
    "str(a).replace(\",\" , \"\")"
   ]
  },
  {
   "cell_type": "code",
   "execution_count": null,
   "metadata": {
    "id": "bF0_Sbo9e-oD"
   },
   "outputs": [],
   "source": [
    "def separateCity(city):\n",
    "    return city.split('/')[0].strip()\n",
    "df['CityLocation'] = df['CityLocation'].apply(separateCity)\n",
    "df['CityLocation'].replace(\"Delhi\",\"New Delhi\",inplace = True)\n",
    "df['CityLocation'].replace(\"bangalore\",\"Bangalore\",inplace = True)\n",
    "df[\"AmountInUSD\"] = df[\"AmountInUSD\"].apply( lambda  x : float(str(x).replace(\",\" , \"\")))"
   ]
  },
  {
   "cell_type": "code",
   "execution_count": null,
   "metadata": {
    "id": "q6CGKJ_Oe-k5"
   },
   "outputs": [],
   "source": [
    "df[\"AmountInUSD\"] = pd.to_numeric(df[\"AmountInUSD\"] )"
   ]
  },
  {
   "cell_type": "code",
   "execution_count": null,
   "metadata": {
    "colab": {
     "base_uri": "https://localhost:8080/"
    },
    "id": "6PwN0oOirdaS",
    "outputId": "5faf9a18-343e-452b-f2db-3c4c2639989f"
   },
   "outputs": [
    {
     "data": {
      "text/plain": [
       "CityLocation\n",
       "Ahmedabad    9.818600e+07\n",
       "Bangalore    8.422974e+09\n",
       "Belgaum      5.000000e+05\n",
       "Bhopal       1.900000e+06\n",
       "Boston       3.000000e+06\n",
       "Name: AmountInUSD, dtype: float64"
      ]
     },
     "execution_count": 37,
     "metadata": {},
     "output_type": "execute_result"
    }
   ],
   "source": [
    "citywise_Inv = df.groupby(\"CityLocation\")[\"AmountInUSD\"].sum()\n",
    "citywise_Inv[:5]"
   ]
  },
  {
   "cell_type": "code",
   "execution_count": null,
   "metadata": {
    "colab": {
     "base_uri": "https://localhost:8080/"
    },
    "id": "W_mxD7jMrgaT",
    "outputId": "2471f9b4-346a-4115-9bb9-9f9fb2e789f4"
   },
   "outputs": [
    {
     "data": {
      "text/plain": [
       "CityLocation\n",
       "Bangalore    8.422974e+09\n",
       "New Delhi    2.818248e+09\n",
       "Mumbai       2.354934e+09\n",
       "Gurgaon      2.069022e+09\n",
       "Chennai      4.111050e+08\n",
       "Pune         3.666530e+08\n",
       "Hyderabad    1.953620e+08\n",
       "Noida        1.706380e+08\n",
       "Ahmedabad    9.818600e+07\n",
       "Jaipur       3.556000e+07\n",
       "Name: AmountInUSD, dtype: float64"
      ]
     },
     "execution_count": 39,
     "metadata": {},
     "output_type": "execute_result"
    }
   ],
   "source": [
    "citywise_Inv = df.groupby(\"CityLocation\")[\"AmountInUSD\"].sum().sort_values(ascending = False)[:10]\n",
    "citywise_Inv"
   ]
  },
  {
   "cell_type": "code",
   "execution_count": null,
   "metadata": {
    "colab": {
     "base_uri": "https://localhost:8080/"
    },
    "id": "zfQ5fLRRrYn0",
    "outputId": "3873a837-7d6c-4bec-8eb4-87c92151268a"
   },
   "outputs": [
    {
     "name": "stdout",
     "output_type": "stream",
     "text": [
      "Bangalore 49.71\n",
      "New Delhi 16.63\n",
      "Mumbai 13.9\n",
      "Gurgaon 12.21\n",
      "Chennai 2.43\n",
      "Pune 2.16\n",
      "Hyderabad 1.15\n",
      "Noida 1.01\n",
      "Ahmedabad 0.58\n",
      "Jaipur 0.21\n"
     ]
    }
   ],
   "source": [
    "city = citywise_Inv.index\n",
    "amount = citywise_Inv.values\n",
    "amount_percent = np.true_divide(amount, amount.sum())*100\n",
    "\n",
    "for i in range(10):\n",
    "    print(city[i], round(amount_percent[i], 2))"
   ]
  },
  {
   "cell_type": "markdown",
   "metadata": {
    "id": "xvIUlI7mwq8V"
   },
   "source": [
    "##Investment Type"
   ]
  },
  {
   "cell_type": "markdown",
   "metadata": {
    "id": "cZ3GCy85rlIa"
   },
   "source": [
    "There are 4 different type of investments. Find out percentage of amount funded for each investment type.\n",
    "Plot a pie chart to visualise.\n",
    "Print the investment type and percentage of amount funded with 2 decimal places after rounding off."
   ]
  },
  {
   "cell_type": "markdown",
   "metadata": {
    "id": "4rR9YcxJrpQO"
   },
   "source": [
    "Note :\n",
    "Correct spelling of investment types are - \"Private Equity\", \"Seed Funding\", \"Debt Funding\", and \"Crowd Funding\". Keep an eye for any spelling mistake. You can find this by printing unique values from this column.\n",
    "Print the investment type in descending order with respect to the percentage of the amount funded."
   ]
  },
  {
   "cell_type": "markdown",
   "metadata": {
    "id": "LlJQT2e2rqi-"
   },
   "source": [
    "Output Format :\n",
    "investmentType1 percent1 "
   ]
  },
  {
   "cell_type": "code",
   "execution_count": null,
   "metadata": {
    "id": "xmyKXegC7BHT"
   },
   "outputs": [],
   "source": [
    "path = '/content/drive/MyDrive/Colab Notebooks/14startup_funding.csv'\n",
    "import pandas as pd\n",
    "import numpy as np\n",
    "import matplotlib.pyplot as plt\n",
    "data = pd.read_csv(path)\n",
    "df = data.copy()"
   ]
  },
  {
   "cell_type": "code",
   "execution_count": null,
   "metadata": {
    "colab": {
     "base_uri": "https://localhost:8080/"
    },
    "id": "RItWad2Gr6Qr",
    "outputId": "829270a1-95da-4bca-90ec-8f385a8d2a00"
   },
   "outputs": [
    {
     "data": {
      "text/plain": [
       "array(['Private Equity', 'Seed Funding', 'Debt Funding', nan,\n",
       "       'SeedFunding', 'PrivateEquity', 'Crowd funding', 'Crowd Funding'],\n",
       "      dtype=object)"
      ]
     },
     "execution_count": 12,
     "metadata": {},
     "output_type": "execute_result"
    }
   ],
   "source": [
    "df.InvestmentType.unique()"
   ]
  },
  {
   "cell_type": "code",
   "execution_count": null,
   "metadata": {
    "id": "7Ii7eWZxtrDD"
   },
   "outputs": [],
   "source": [
    "df.dropna(subset = ['InvestmentType'], inplace = True)"
   ]
  },
  {
   "cell_type": "code",
   "execution_count": null,
   "metadata": {
    "colab": {
     "base_uri": "https://localhost:8080/"
    },
    "id": "iOe1VZ6OsvKt",
    "outputId": "5a278a4f-1af8-4bc4-ee9b-aadc05f0dfa0"
   },
   "outputs": [
    {
     "data": {
      "text/plain": [
       "array(['Private Equity', 'Seed Funding', 'Debt Funding', 'Crowd Funding'],\n",
       "      dtype=object)"
      ]
     },
     "execution_count": 14,
     "metadata": {},
     "output_type": "execute_result"
    }
   ],
   "source": [
    "df['InvestmentType'].replace(\"SeedFunding\", \"Seed Funding\", inplace = True)\n",
    "df['InvestmentType'].replace(\"PrivateEquity\", \"Private Equity\", inplace = True)\n",
    "df['InvestmentType'].replace(\"Crowd funding\", \"Crowd Funding\", inplace = True)\n",
    "df.InvestmentType.unique()"
   ]
  },
  {
   "cell_type": "code",
   "execution_count": null,
   "metadata": {
    "colab": {
     "base_uri": "https://localhost:8080/"
    },
    "id": "2cypuEI6t3Ve",
    "outputId": "b9a9d60b-9106-499d-911a-e28dadd3293c"
   },
   "outputs": [
    {
     "name": "stdout",
     "output_type": "stream",
     "text": [
      "Private Equity  98.15\n",
      "Seed Funding  1.81\n",
      "Debt Funding  0.04\n",
      "Crowd Funding  0.00\n"
     ]
    }
   ],
   "source": [
    "df['AmountInUSD'] = df['AmountInUSD'].apply( lambda x : float(str(x).replace(\",\", \"\")) ) \n",
    "amount_investmentType = df.groupby('InvestmentType')['AmountInUSD'].sum()\n",
    "amount_investmentType = amount_investmentType.sort_values(ascending = False)\n",
    "investmentType = amount_investmentType.index\n",
    "amount = amount_investmentType.values\n",
    "amount_percent = np.true_divide(amount, amount.sum())*100\n",
    "for i in range(len(amount)):\n",
    "    print(investmentType[i], f\"{ amount_percent[i] : 0.2f}\")"
   ]
  },
  {
   "cell_type": "code",
   "execution_count": null,
   "metadata": {
    "colab": {
     "base_uri": "https://localhost:8080/",
     "height": 248
    },
    "id": "DUJBqAaGt3Sg",
    "outputId": "8f5b1b03-72a7-4351-bbff-b097c1a52a78"
   },
   "outputs": [
    {
     "data": {
      "image/png": "[encoded data removed]",
      "text/plain": [
       "<Figure size 432x288 with 1 Axes>"
      ]
     },
     "metadata": {},
     "output_type": "display_data"
    }
   ],
   "source": [
    "plt.pie(amount_percent, labels = investmentType, autopct = \"%0.2f%%\")\n",
    "plt.axis(\"equal\")\n",
    "plt.show()"
   ]
  },
  {
   "cell_type": "markdown",
   "metadata": {
    "id": "J7AMxZobwAsM"
   },
   "source": [
    "#### Top Industries"
   ]
  },
  {
   "cell_type": "markdown",
   "metadata": {
    "id": "GyKolz_NwKEQ"
   },
   "source": [
    "Which type of companies got more easily funding. To answer this question, find -\n",
    "Top 5 industries and percentage of the total amount funded to that industry. (among top 5 only)\n",
    "Print the industry name and percentage of the amount funded with 2 decimal place after rounding off."
   ]
  },
  {
   "cell_type": "markdown",
   "metadata": {
    "id": "aw8K3hTswatP"
   },
   "source": [
    "Note :\n",
    "Ecommerce is the right word in IndustryVertical, so correct it.\n",
    "Print the industry in descending order with respect to the percentage of the amount funded."
   ]
  },
  {
   "cell_type": "markdown",
   "metadata": {
    "id": "DO7WzyQywbok"
   },
   "source": [
    "Output Format :\n",
    "industry1 percent1"
   ]
  },
  {
   "cell_type": "code",
   "execution_count": null,
   "metadata": {
    "id": "ZY2mD9s47BEq"
   },
   "outputs": [],
   "source": [
    "path = '/content/drive/MyDrive/Colab Notebooks/14startup_funding.csv'\n",
    "import pandas as pd\n",
    "import numpy as np\n",
    "import matplotlib.pyplot as plt\n",
    "data = pd.read_csv(path)\n",
    "df = data.copy()"
   ]
  },
  {
   "cell_type": "code",
   "execution_count": null,
   "metadata": {
    "colab": {
     "base_uri": "https://localhost:8080/"
    },
    "id": "C6AGe1svwD3j",
    "outputId": "6aeffcc5-1703-4081-e0c2-117b64d889a2"
   },
   "outputs": [
    {
     "data": {
      "text/plain": [
       "Index(['SNo', 'Date', 'StartupName', 'IndustryVertical', 'SubVertical',\n",
       "       'CityLocation', 'InvestorsName', 'InvestmentType', 'AmountInUSD',\n",
       "       'Remarks'],\n",
       "      dtype='object')"
      ]
     },
     "execution_count": 20,
     "metadata": {},
     "output_type": "execute_result"
    }
   ],
   "source": [
    "df.columns"
   ]
  },
  {
   "cell_type": "code",
   "execution_count": null,
   "metadata": {
    "id": "dlmpxwvowD0L"
   },
   "outputs": [],
   "source": [
    "df['IndustryVertical'].replace(\"eCommerce\", \"Ecommerce\", inplace = True)\n",
    "df['IndustryVertical'].replace(\"ECommerce\", \"Ecommerce\", inplace = True)\n",
    "df['IndustryVertical'].replace(\"ecommerce\", \"Ecommerce\", inplace = True)"
   ]
  },
  {
   "cell_type": "code",
   "execution_count": null,
   "metadata": {
    "id": "0nV9BdG7wDwR"
   },
   "outputs": [],
   "source": [
    "df['AmountInUSD'] = df['AmountInUSD'].apply(lambda x : float(str(x).replace(\",\", \"\")))\n",
    "df['AmountInUSD'] = pd.to_numeric(df['AmountInUSD'])\n",
    "\n",
    "industryWise_funding = df.groupby('IndustryVertical')['AmountInUSD'].sum().sort_values(ascending = False)[:5]\n",
    "industry = industryWise_funding.index\n",
    "fund = industryWise_funding.values\n",
    "fund_percent = np.true_divide(fund, fund.sum())*100"
   ]
  },
  {
   "cell_type": "code",
   "execution_count": null,
   "metadata": {
    "colab": {
     "base_uri": "https://localhost:8080/"
    },
    "id": "7GyG_xpawDtI",
    "outputId": "7c15f1db-29db-41ff-bfd5-80565f07bd18"
   },
   "outputs": [
    {
     "name": "stdout",
     "output_type": "stream",
     "text": [
      "Ecommerce 40.53\n",
      "Consumer Internet 35.95\n",
      "Technology 10.45\n",
      "Online Marketplace 6.63\n",
      "E-Commerce & M-Commerce platform 6.44\n"
     ]
    }
   ],
   "source": [
    "for i in range(len(fund)):\n",
    "    print(industry[i], format(fund_percent[i], \"0.2f\"))"
   ]
  },
  {
   "cell_type": "markdown",
   "metadata": {
    "id": "XjzFaO_J0wr0"
   },
   "source": [
    "#### Top startups"
   ]
  },
  {
   "cell_type": "markdown",
   "metadata": {
    "id": "xmzQwDc20_Us"
   },
   "source": [
    "Find top 5 startups with most amount of total funding.\n",
    "Print the startup name in descending order with respect to amount of funding."
   ]
  },
  {
   "cell_type": "markdown",
   "metadata": {
    "id": "hZ1lDLZ81E62"
   },
   "source": [
    "Ola, Flipkart, Oyo, Paytm are important startups, so correct their names. There are many errors in startup names, ignore correcting all, just handle important ones.\n",
    "Output Format :\n",
    "startup1\n",
    "startup2"
   ]
  },
  {
   "cell_type": "code",
   "execution_count": null,
   "metadata": {
    "id": "LSgLD5Nz7DKi"
   },
   "outputs": [],
   "source": [
    "path = '/content/drive/MyDrive/Colab Notebooks/14startup_funding.csv'\n",
    "import pandas as pd\n",
    "import numpy as np\n",
    "import matplotlib.pyplot as plt\n",
    "data = pd.read_csv(path)\n",
    "df_start = data.copy()"
   ]
  },
  {
   "cell_type": "code",
   "execution_count": null,
   "metadata": {
    "colab": {
     "base_uri": "https://localhost:8080/"
    },
    "id": "xjc5u1nP1LN7",
    "outputId": "a943fc7e-1a97-424f-a80e-7ae59c6ff340"
   },
   "outputs": [
    {
     "data": {
      "text/plain": [
       "Index(['SNo', 'Date', 'StartupName', 'IndustryVertical', 'SubVertical',\n",
       "       'CityLocation', 'InvestorsName', 'InvestmentType', 'AmountInUSD',\n",
       "       'Remarks'],\n",
       "      dtype='object')"
      ]
     },
     "execution_count": 32,
     "metadata": {},
     "output_type": "execute_result"
    }
   ],
   "source": [
    "df_start.columns"
   ]
  },
  {
   "cell_type": "code",
   "execution_count": null,
   "metadata": {
    "colab": {
     "base_uri": "https://localhost:8080/"
    },
    "id": "4ROaFIFi1gFQ",
    "outputId": "8d071ac7-18d0-4fa5-df38-f39c3632fbb8"
   },
   "outputs": [
    {
     "name": "stdout",
     "output_type": "stream",
     "text": [
      "Paytm\n",
      "Flipkart\n",
      "Ola\n",
      "Snapdeal\n",
      "Oyo\n"
     ]
    }
   ],
   "source": [
    "df_start['StartupName'].replace('Olacabs','Ola',inplace=True)\n",
    "df_start['StartupName'].replace('Ola Cabs','Ola',inplace=True)\n",
    "df_start['StartupName'].replace('Flipkart.com','Flipkart',inplace=True)\n",
    "df_start['StartupName'].replace('Paytm Marketplace','Paytm',inplace=True)\n",
    "df_start['StartupName'].replace('Oyo Rooms','Oyo',inplace=True)\n",
    "df_start['StartupName'].replace('Oyorooms','Oyo',inplace=True)\n",
    "df_start['StartupName'].replace('OyoRooms','Oyo',inplace=True)\n",
    "df_start['StartupName'].replace('OYO Rooms','Oyo',inplace=True)\n",
    "## Converting \"AmountInUSD\" into numeric format\n",
    "df_start[\"AmountInUSD\"] = df_start[\"AmountInUSD\"].apply(lambda x:float(str(x).replace(\",\",\"\")))\n",
    "df_start[\"AmountInUSD\"] = pd.to_numeric(df_start[\"AmountInUSD\"])\n",
    "start_fund=df_start.groupby('StartupName')['AmountInUSD'].sum().sort_values(ascending=False)[0:5]\n",
    "startup=start_fund.index\n",
    "for i in startup:\n",
    "    print(i)"
   ]
  },
  {
   "cell_type": "markdown",
   "metadata": {
    "id": "j-SJ-8i912va"
   },
   "source": [
    "#### Funding rounds"
   ]
  },
  {
   "cell_type": "markdown",
   "metadata": {
    "id": "hQoMk0Ly2Ens"
   },
   "source": [
    "Find the top 5 startups who received the most number of funding rounds. That means, startups which got fundings maximum number of times.\n",
    "Print the startup name in descending order with respect to the number of funding round as integer value.\n"
   ]
  },
  {
   "cell_type": "markdown",
   "metadata": {
    "id": "MVDYSWfB2Hm6"
   },
   "source": [
    "Note:\n",
    "Ola, Flipkart, Oyo, Paytm are important startups, so correct their names. There are many errors in startup names, ignore correcting all, just handle important ones.\n",
    "Output Format :\n",
    "startup1 number1\n",
    "startup2 number2"
   ]
  },
  {
   "cell_type": "code",
   "execution_count": null,
   "metadata": {
    "id": "zPjigHMx7DHE"
   },
   "outputs": [],
   "source": [
    "path = '/content/drive/MyDrive/Colab Notebooks/14startup_funding.csv'\n",
    "import pandas as pd\n",
    "import numpy as np\n",
    "import matplotlib.pyplot as plt\n",
    "data = pd.read_csv(path)\n",
    "df = data.copy()"
   ]
  },
  {
   "cell_type": "code",
   "execution_count": null,
   "metadata": {
    "colab": {
     "base_uri": "https://localhost:8080/"
    },
    "id": "msaVhcng3BoT",
    "outputId": "d571f9cf-d31d-4e39-8912-d885f5250adb"
   },
   "outputs": [
    {
     "name": "stdout",
     "output_type": "stream",
     "text": [
      "Ola 9\n",
      "Swiggy 7\n",
      "UrbanClap 6\n",
      "Paytm 6\n",
      "Oyo 6\n"
     ]
    }
   ],
   "source": [
    "df['StartupName'].replace('Oyorooms','Oyo',inplace = True)\n",
    "df['StartupName'].replace('OyoRooms','Oyo',inplace = True)\n",
    "df['StartupName'].replace('Oyo Rooms','Oyo',inplace = True)\n",
    "df['StartupName'].replace('OYO Rooms','Oyo',inplace = True)\n",
    "df['StartupName'].replace('Olacabs','Ola',inplace = True)\n",
    "df['StartupName'].replace('Ola Cabs','Ola',inplace = True)\n",
    "df['StartupName'].replace('Olacabs','Ola',inplace = True)\n",
    "df['StartupName'].replace('Flipkart.com','Flipkart',inplace = True)\n",
    "df['StartupName'].replace('Paytm Marketplace','Paytm',inplace = True)\n",
    "\n",
    "totalfunding = df['StartupName'].value_counts()[:5]\n",
    "startupname = totalfunding.index\n",
    "count = totalfunding.values\n",
    "for i in range(5):\n",
    "    print(startupname[i],count[i])"
   ]
  },
  {
   "cell_type": "markdown",
   "metadata": {
    "id": "M0lDWj9l3IO4"
   },
   "source": [
    "#### Top Investor"
   ]
  },
  {
   "cell_type": "markdown",
   "metadata": {
    "id": "IBnuKFE_3PDI"
   },
   "source": [
    "Find the Investors who have invested maximum number of times.\n",
    "Print the investor name and number of times invested as integer value."
   ]
  },
  {
   "cell_type": "markdown",
   "metadata": {
    "id": "eqjk1Eva3R4z"
   },
   "source": [
    "Note:\n",
    "In startup, multiple investors might have invested. So consider each investor for that startup.\n",
    "Ignore the undisclosed investors.\n",
    "Output Format :\n",
    "investorname number"
   ]
  },
  {
   "cell_type": "code",
   "execution_count": null,
   "metadata": {
    "id": "7H63LzCh7DEe"
   },
   "outputs": [],
   "source": [
    "path = '/content/drive/MyDrive/Colab Notebooks/14startup_funding.csv'\n",
    "import pandas as pd\n",
    "import numpy as np\n",
    "import matplotlib.pyplot as plt\n",
    "data = pd.read_csv(path)\n",
    "df = data.copy()"
   ]
  },
  {
   "cell_type": "code",
   "execution_count": null,
   "metadata": {
    "id": "BwkiIBzZ3Tm4"
   },
   "outputs": [],
   "source": [
    "df.dropna(subset = ['InvestorsName'], inplace = True)"
   ]
  },
  {
   "cell_type": "code",
   "execution_count": null,
   "metadata": {
    "id": "-cJlb6G93Tbf"
   },
   "outputs": [],
   "source": [
    "def createDict(arr):\n",
    "    d = {}\n",
    "    for i in arr:\n",
    "        if ',' not in i:\n",
    "            d[i] = d.get(i,0)+1\n",
    "        else:\n",
    "            name = i.strip().split(\",\")\n",
    "            for j in name:\n",
    "                d[j.strip()] = d.get(j.strip(), 0) +1\n",
    "    return d"
   ]
  },
  {
   "cell_type": "code",
   "execution_count": null,
   "metadata": {
    "id": "P3t38Min5Nuk"
   },
   "outputs": [],
   "source": [
    "dict = createDict(df['InvestorsName'])\n",
    "df_new = pd.DataFrame(list(dict.values()), list(dict.keys()))\n",
    "df_new = df_new.sort_values(by = [0], ascending = False) \n",
    "#df_new = df_new.sort_values(col1_name, ascending = False) \n",
    "print(df_new.index[0], df_new[0][0])\n",
    "print(df_new.index[0], df_new.values[0][0])\n",
    "df_new"
   ]
  },
  {
   "cell_type": "code",
   "execution_count": null,
   "metadata": {
    "colab": {
     "base_uri": "https://localhost:8080/"
    },
    "id": "Vg9nqBj95Ndl",
    "outputId": "260a2cae-f6d0-4ab5-bc6c-f38524f0f1da"
   },
   "outputs": [
    {
     "name": "stdout",
     "output_type": "stream",
     "text": [
      "Sequoia Capital 64  \n"
     ]
    }
   ],
   "source": [
    "from collections import Counter\n",
    "d={}\n",
    "def separateCity(n):\n",
    "    \n",
    "    n=n.split(',')\n",
    "    l=[]\n",
    "    \n",
    "    for i in n:\n",
    "        l.append(i.strip())\n",
    "    for i in l:\n",
    "        if i in d:\n",
    "            d[i]=d[i]+1\n",
    "        else:\n",
    "            d[i]=1\n",
    "\n",
    "df['InvestorsName']=df['InvestorsName'].apply(separateCity)\n",
    "r=Counter(d)\n",
    "high = r.most_common(5)  \n",
    "for i in high: \n",
    "    print(i[0],i[1],\" \") \n",
    "    break\n"
   ]
  },
  {
   "cell_type": "markdown",
   "metadata": {
    "id": "utB1OwRvLLUK"
   },
   "source": [
    "# Project : Case Study (Part - II)"
   ]
  },
  {
   "cell_type": "markdown",
   "metadata": {
    "id": "yAMTba4lNDAe"
   },
   "source": [
    "## #1 "
   ]
  },
  {
   "cell_type": "markdown",
   "metadata": {
    "id": "ORq2MdGGNWaZ"
   },
   "source": [
    "Your Friend has developed the Product and he wants to establish the product startup and he is searching for a perfect location where getting the investment has a high chance. But due to its financial restriction, he can choose only between three locations -  Bangalore, Mumbai, and NCR. As a friend, you want to help your friend deciding the location. NCR include Gurgaon, Noida and New Delhi. Find the location where the most number of funding is done. That means, find the location where startups has received funding maximum number of times. Plot the bar graph between location and number of funding. Take city name \"Delhi\" as \"New Delhi\". Check the case-sensitiveness of cities also. That means, at some place instead of \"Bangalore\", \"bangalore\" is given. Take city name as \"Bangalore\". For few startups multiple locations are given, one Indian and one Foreign. Consider the startup if any one of the city lies in given locations.\n"
   ]
  },
  {
   "cell_type": "code",
   "execution_count": null,
   "metadata": {
    "id": "_6Mu4U-119FX"
   },
   "outputs": [],
   "source": [
    "path = '/content/drive/MyDrive/Colab Notebooks/14startup_funding.csv'\n",
    "import pandas as pd\n",
    "import numpy as np\n",
    "import matplotlib.pyplot as plt\n",
    "data = pd.read_csv(path)\n",
    "df = data.copy()"
   ]
  },
  {
   "cell_type": "code",
   "execution_count": null,
   "metadata": {
    "colab": {
     "base_uri": "https://localhost:8080/"
    },
    "id": "87V-5aSNOKmR",
    "outputId": "9ea3a244-454a-40d5-e026-231260d3455e"
   },
   "outputs": [
    {
     "data": {
      "text/plain": [
       "Index(['SNo', 'Date', 'StartupName', 'IndustryVertical', 'SubVertical',\n",
       "       'CityLocation', 'InvestorsName', 'InvestmentType', 'AmountInUSD',\n",
       "       'Remarks'],\n",
       "      dtype='object')"
      ]
     },
     "execution_count": 47,
     "metadata": {},
     "output_type": "execute_result"
    }
   ],
   "source": [
    "df.columns"
   ]
  },
  {
   "cell_type": "code",
   "execution_count": null,
   "metadata": {
    "colab": {
     "base_uri": "https://localhost:8080/"
    },
    "id": "VAIpjQcvOKiE",
    "outputId": "210ac053-092a-4b15-cde4-50a06453293d"
   },
   "outputs": [
    {
     "data": {
      "text/plain": [
       "179"
      ]
     },
     "execution_count": 55,
     "metadata": {},
     "output_type": "execute_result"
    }
   ],
   "source": [
    "df['CityLocation'].isnull().sum()"
   ]
  },
  {
   "cell_type": "code",
   "execution_count": null,
   "metadata": {
    "colab": {
     "base_uri": "https://localhost:8080/"
    },
    "id": "siwHFNd6OKfe",
    "outputId": "25a206fc-f93e-4683-97b6-94a2b2f35b93"
   },
   "outputs": [
    {
     "data": {
      "text/plain": [
       "0"
      ]
     },
     "execution_count": 56,
     "metadata": {},
     "output_type": "execute_result"
    }
   ],
   "source": [
    "df.dropna(subset = ['CityLocation'], inplace = True)\n",
    "df['CityLocation'].isnull().sum()"
   ]
  },
  {
   "cell_type": "code",
   "execution_count": null,
   "metadata": {
    "id": "rPsheAhbQA4y"
   },
   "outputs": [],
   "source": [
    "def getCity(cities):\n",
    "    li=[ele.strip() for ele in cities.split('/')]#Function to to get the required location by splitting the string\n",
    "    return li[0]\n",
    "df['CityLocation']=df['CityLocation'].apply(getCity)"
   ]
  },
  {
   "cell_type": "code",
   "execution_count": null,
   "metadata": {
    "id": "t8AiyzIYOKcx"
   },
   "outputs": [],
   "source": [
    "df['CityLocation'].replace('Delhi', 'New Delhi', inplace = True)\n",
    "df['CityLocation'].replace('bangalore', 'Bangalore', inplace = True)\n",
    "df['CityLocation'].replace('New Delhi', 'NCR', inplace = True)\n",
    "df['CityLocation'].replace('Noida', 'NCR', inplace = True)\n",
    "df['CityLocation'].replace('Gurgaon', 'NCR', inplace = True)"
   ]
  },
  {
   "cell_type": "code",
   "execution_count": null,
   "metadata": {
    "id": "kI6X9bLsOKac"
   },
   "outputs": [],
   "source": [
    "df = df[ (df['CityLocation'] == 'Bangalore') | (df['CityLocation'] == 'NCR') | (df['CityLocation'] == 'Mumbai')]\n",
    "#df.head(5) #use round bracket in above"
   ]
  },
  {
   "cell_type": "code",
   "execution_count": null,
   "metadata": {
    "id": "FTs15-cJOKXo"
   },
   "outputs": [],
   "source": [
    "city_wise_funding = df['CityLocation'].value_counts()\n",
    "city = city_wise_funding.index\n",
    "no_of_funding = city_wise_funding.values"
   ]
  },
  {
   "cell_type": "code",
   "execution_count": null,
   "metadata": {
    "colab": {
     "base_uri": "https://localhost:8080/",
     "height": 326
    },
    "id": "0hGYYFaVRXHU",
    "outputId": "e12cd957-7a81-4422-cd25-c3f8902fd028"
   },
   "outputs": [
    {
     "data": {
      "image/png": "[encoded data removed]",
      "text/plain": [
       "<Figure size 432x288 with 1 Axes>"
      ]
     },
     "metadata": {
      "needs_background": "light"
     },
     "output_type": "display_data"
    }
   ],
   "source": [
    "plt.bar(city,no_of_funding)\n",
    "plt.title(\"Locations to set the Starup\")\n",
    "plt.xlabel(\"City Names -->\")\n",
    "plt.ylabel(\"No. of Fundings -->\")\n",
    "plt.xticks(rotation=40)\n",
    "plt.show()"
   ]
  },
  {
   "cell_type": "code",
   "execution_count": null,
   "metadata": {
    "id": "YRY9DRRCgNUv"
   },
   "outputs": [],
   "source": [
    "import pandas as pd\n",
    "import numpy as np\n",
    "import matplotlib.pyplot as plt\n",
    "\n",
    "df=pd.read_csv('startup_funding.csv', encoding='utf-8')\n",
    "df['CityLocation'].dropna(inplace=True)\n",
    "\n",
    "def city_count(city):\n",
    "    l = city.split('/')\n",
    "    for c in l:\n",
    "        c=c.strip()\n",
    "        if c in locations:\n",
    "            d[c]=d.get(c,0)+1\n",
    "    return\n",
    "    \n",
    "\n",
    "df['CityLocation'].replace(\"Delhi\",\"New Delhi\",inplace=True)\n",
    "df['CityLocation'].replace(\"bangalore\",\"Bangalore\",inplace=True)\n",
    "\n",
    "locations=['Bangalore','Mumbai','Gurgaon','Noida','New Delhi']\n",
    "d={}\n",
    "df['CityLocation'].apply(city_count)\n",
    "\n",
    "location = np.array(list(d.keys()))\n",
    "number_of_fundings = np.array(list(d.values()))\n",
    "\n",
    "print(\"List of Location with Number of Fundings is given as: \")\n",
    "for i in range(len(location)):\n",
    "    print(location[i],\"-\",number_of_fundings[i])\n",
    "\n",
    "ind=number_of_fundings.argmax()\n",
    "print(\"Maximum Funding is done in\",location[ind],\",\",number_of_fundings[ind],\"times.\")\n",
    "\n",
    "plt.bar(location,number_of_fundings)\n",
    "plt.ylabel('Number of Fundings',fontsize=15)\n",
    "plt.title('Location Versus Number of Fundings',fontsize=17)\n",
    "plt.yticks(fontsize=15)\n",
    "plt.xticks(rotation='vertical',fontsize=15)\n",
    "plt.show()"
   ]
  },
  {
   "cell_type": "code",
   "execution_count": null,
   "metadata": {
    "id": "oHsLUAfaClHL"
   },
   "outputs": [],
   "source": [
    "import pandas as pd\n",
    "import numpy as np\n",
    "import matplotlib.pyplot as plt\n",
    "\n",
    "df=pd.read_csv('startup_funding.csv', encoding='utf-8')\n",
    "df['CityLocation'].dropna(inplace=True)\n",
    "\n",
    "def city_count(city):\n",
    "    l = city.split('/')\n",
    "    for c in l:\n",
    "        c=c.strip()\n",
    "        if c in locations:\n",
    "            d[c]=d.get(c,0)+1\n",
    "    return\n",
    "    \n",
    "\n",
    "df['CityLocation'].replace(\"Delhi\",\"New Delhi\",inplace=True)\n",
    "df['CityLocation'].replace(\"bangalore\",\"Bangalore\",inplace=True)\n",
    "\n",
    "locations=['Bangalore','Mumbai','Gurgaon','Noida','New Delhi']\n",
    "d={}\n",
    "df['CityLocation'].apply(city_count)\n",
    "\n",
    "location = np.array(list(d.keys()))\n",
    "number_of_fundings = np.array(list(d.values()))\n",
    "\n",
    "print(\"List of Location with Number of Fundings is given as: \")\n",
    "for i in range(len(location)):\n",
    "    print(location[i],\"-\",number_of_fundings[i])\n",
    "\n",
    "ind=number_of_fundings.argmax()\n",
    "print(\"Maximum Funding is done in\",location[ind],\",\",number_of_fundings[ind],\"times.\")\n",
    "\n",
    "plt.bar(location,number_of_fundings)\n",
    "plt.ylabel('Number of Fundings',fontsize=15)\n",
    "plt.title('Location Versus Number of Fundings',fontsize=17)\n",
    "plt.yticks(fontsize=15)\n",
    "plt.xticks(rotation='vertical',fontsize=15)\n",
    "plt.show()"
   ]
  },
  {
   "cell_type": "markdown",
   "metadata": {
    "id": "xqdGwHrpXC0L"
   },
   "source": [
    "## #2"
   ]
  },
  {
   "cell_type": "markdown",
   "metadata": {
    "id": "F2EaLsVRXFuk"
   },
   "source": [
    "Even after trying for so many times, your friend’s startup could not find the investment. So you decided to take this matter in your hand and try to find the list of investors who probably can invest in your friend’s startup. Your list will increase the chance of your friend startup getting some initial investment by contacting these investors. Find the top 5 investors who have invested maximum number of times (consider repeat investments in one company also). In a startup, multiple investors might have invested. So consider each investor for that startup. Ignore undisclosed investors."
   ]
  },
  {
   "cell_type": "code",
   "execution_count": null,
   "metadata": {
    "id": "9PdqBHszNPPr"
   },
   "outputs": [],
   "source": [
    "path = '/content/drive/MyDrive/Colab Notebooks/14startup_funding.csv'\n",
    "import pandas as pd\n",
    "import numpy as np\n",
    "import matplotlib.pyplot as plt\n",
    "data = pd.read_csv(path)\n",
    "df = data.copy()"
   ]
  },
  {
   "cell_type": "code",
   "execution_count": null,
   "metadata": {
    "id": "Q7-QnD9CZKbU"
   },
   "outputs": [],
   "source": [
    "df.dropna(subset = ['InvestorsName'], inplace = True)"
   ]
  },
  {
   "cell_type": "code",
   "execution_count": null,
   "metadata": {
    "id": "CE8S8DQqewfp"
   },
   "outputs": [],
   "source": [
    "def createDict(arr):\n",
    "    d = {}\n",
    "    for i in arr:\n",
    "        if ',' not in i:\n",
    "            d[i] = d.get(i,0)+1\n",
    "        else:\n",
    "            name = i.strip().split(\",\")\n",
    "            for j in name:\n",
    "                d[j.strip()] = d.get(j.strip(), 0) +1\n",
    "    return d"
   ]
  },
  {
   "cell_type": "code",
   "execution_count": null,
   "metadata": {
    "colab": {
     "base_uri": "https://localhost:8080/",
     "height": 112
    },
    "id": "vyoiPiCre0cF",
    "outputId": "c878d8d0-71b5-4e00-8158-89178e62fb80"
   },
   "outputs": [
    {
     "data": {
      "text/html": [
       "\n",
       "  <div id=\"df-048696c7-70e0-43f2-8cf7-a197fbea283c\">\n",
       "    <div class=\"colab-df-container\">\n",
       "      <div>\n",
       "<style scoped>\n",
       "    .dataframe tbody tr th:only-of-type {\n",
       "        vertical-align: middle;\n",
       "    }\n",
       "\n",
       "    .dataframe tbody tr th {\n",
       "        vertical-align: top;\n",
       "    }\n",
       "\n",
       "    .dataframe thead th {\n",
       "        text-align: right;\n",
       "    }\n",
       "</style>\n",
       "<table border=\"1\" class=\"dataframe\">\n",
       "  <thead>\n",
       "    <tr style=\"text-align: right;\">\n",
       "      <th></th>\n",
       "      <th>0</th>\n",
       "    </tr>\n",
       "  </thead>\n",
       "  <tbody>\n",
       "    <tr>\n",
       "      <th>Sequoia Capital</th>\n",
       "      <td>64</td>\n",
       "    </tr>\n",
       "    <tr>\n",
       "      <th>Accel Partners</th>\n",
       "      <td>53</td>\n",
       "    </tr>\n",
       "  </tbody>\n",
       "</table>\n",
       "</div>\n",
       "      <button class=\"colab-df-convert\" onclick=\"convertToInteractive('df-048696c7-70e0-43f2-8cf7-a197fbea283c')\"\n",
       "              title=\"Convert this dataframe to an interactive table.\"\n",
       "              style=\"display:none;\">\n",
       "        \n",
       "  <svg xmlns=\"http://www.w3.org/2000/svg\" height=\"24px\"viewBox=\"0 0 24 24\"\n",
       "       width=\"24px\">\n",
       "    <path d=\"M0 0h24v24H0V0z\" fill=\"none\"/>\n",
       "    <path d=\"M18.56 5.44l.94 2.06.94-2.06 2.06-.94-2.06-.94-.94-2.06-.94 2.06-2.06.94zm-11 1L8.5 8.5l.94-2.06 2.06-.94-2.06-.94L8.5 2.5l-.94 2.06-2.06.94zm10 10l.94 2.06.94-2.06 2.06-.94-2.06-.94-.94-2.06-.94 2.06-2.06.94z\"/><path d=\"M17.41 7.96l-1.37-1.37c-.4-.4-.92-.59-1.43-.59-.52 0-1.04.2-1.43.59L10.3 9.45l-7.72 7.72c-.78.78-.78 2.05 0 2.83L4 21.41c.39.39.9.59 1.41.59.51 0 1.02-.2 1.41-.59l7.78-7.78 2.81-2.81c.8-.78.8-2.07 0-2.86zM5.41 20L4 18.59l7.72-7.72 1.47 1.35L5.41 20z\"/>\n",
       "  </svg>\n",
       "      </button>\n",
       "      \n",
       "  <style>\n",
       "    .colab-df-container {\n",
       "      display:flex;\n",
       "      flex-wrap:wrap;\n",
       "      gap: 12px;\n",
       "    }\n",
       "\n",
       "    .colab-df-convert {\n",
       "      background-color: #E8F0FE;\n",
       "      border: none;\n",
       "      border-radius: 50%;\n",
       "      cursor: pointer;\n",
       "      display: none;\n",
       "      fill: #1967D2;\n",
       "      height: 32px;\n",
       "      padding: 0 0 0 0;\n",
       "      width: 32px;\n",
       "    }\n",
       "\n",
       "    .colab-df-convert:hover {\n",
       "      background-color: #E2EBFA;\n",
       "      box-shadow: 0px 1px 2px rgba(60, 64, 67, 0.3), 0px 1px 3px 1px rgba(60, 64, 67, 0.15);\n",
       "      fill: #174EA6;\n",
       "    }\n",
       "\n",
       "    [theme=dark] .colab-df-convert {\n",
       "      background-color: #3B4455;\n",
       "      fill: #D2E3FC;\n",
       "    }\n",
       "\n",
       "    [theme=dark] .colab-df-convert:hover {\n",
       "      background-color: #434B5C;\n",
       "      box-shadow: 0px 1px 3px 1px rgba(0, 0, 0, 0.15);\n",
       "      filter: drop-shadow(0px 1px 2px rgba(0, 0, 0, 0.3));\n",
       "      fill: #FFFFFF;\n",
       "    }\n",
       "  </style>\n",
       "\n",
       "      <script>\n",
       "        const buttonEl =\n",
       "          document.querySelector('#df-048696c7-70e0-43f2-8cf7-a197fbea283c button.colab-df-convert');\n",
       "        buttonEl.style.display =\n",
       "          google.colab.kernel.accessAllowed ? 'block' : 'none';\n",
       "\n",
       "        async function convertToInteractive(key) {\n",
       "          const element = document.querySelector('#df-048696c7-70e0-43f2-8cf7-a197fbea283c');\n",
       "          const dataTable =\n",
       "            await google.colab.kernel.invokeFunction('convertToInteractive',\n",
       "                                                     [key], {});\n",
       "          if (!dataTable) return;\n",
       "\n",
       "          const docLinkHtml = 'Like what you see? Visit the ' +\n",
       "            '<a target=\"_blank\" href=https://colab.research.google.com/notebooks/data_table.ipynb>data table notebook</a>'\n",
       "            + ' to learn more about interactive tables.';\n",
       "          element.innerHTML = '';\n",
       "          dataTable['output_type'] = 'display_data';\n",
       "          await google.colab.output.renderOutput(dataTable, element);\n",
       "          const docLink = document.createElement('div');\n",
       "          docLink.innerHTML = docLinkHtml;\n",
       "          element.appendChild(docLink);\n",
       "        }\n",
       "      </script>\n",
       "    </div>\n",
       "  </div>\n",
       "  "
      ],
      "text/plain": [
       "                  0\n",
       "Sequoia Capital  64\n",
       "Accel Partners   53"
      ]
     },
     "execution_count": 112,
     "metadata": {},
     "output_type": "execute_result"
    }
   ],
   "source": [
    "dict = createDict(df['InvestorsName'])\n",
    "df_new = pd.DataFrame(list(dict.values()), list(dict.keys()))\n",
    "df_new = df_new.sort_values(by = [0], ascending = False)[:5] \n",
    "df_new.head(2)"
   ]
  },
  {
   "cell_type": "code",
   "execution_count": null,
   "metadata": {
    "colab": {
     "base_uri": "https://localhost:8080/"
    },
    "id": "2Ez1RHwUfDLc",
    "outputId": "3badf6b0-0ca9-43a6-e3a4-65b07c3860cd"
   },
   "outputs": [
    {
     "name": "stdout",
     "output_type": "stream",
     "text": [
      "Index(['Sequoia Capital', 'Accel Partners', 'Kalaari Capital', 'SAIF Partners',\n",
      "       'Indian Angel Network'],\n",
      "      dtype='object')\n",
      "(5,)\n"
     ]
    }
   ],
   "source": [
    "investor = df_new.index\n",
    "print(investor)\n",
    "print(investor.shape)"
   ]
  },
  {
   "cell_type": "code",
   "execution_count": null,
   "metadata": {
    "colab": {
     "base_uri": "https://localhost:8080/"
    },
    "id": "CF0UXeTDfYS3",
    "outputId": "91b422ad-a386-4052-b7a3-eb37c1e3994b"
   },
   "outputs": [
    {
     "name": "stdout",
     "output_type": "stream",
     "text": [
      "(5,)\n"
     ]
    },
    {
     "data": {
      "text/plain": [
       "array([64, 53, 44, 41, 40])"
      ]
     },
     "execution_count": 121,
     "metadata": {},
     "output_type": "execute_result"
    }
   ],
   "source": [
    "no_of_funding = df_new.values.reshape(5)\n",
    "print(no_of_funding.shape)\n",
    "no_of_funding"
   ]
  },
  {
   "cell_type": "code",
   "execution_count": null,
   "metadata": {
    "colab": {
     "base_uri": "https://localhost:8080/",
     "height": 368
    },
    "id": "IFTbHj6cfy_H",
    "outputId": "c1d8ab37-4188-4433-94e7-55cd4f8220e2"
   },
   "outputs": [
    {
     "data": {
      "image/png": "[encoded data removed]",
      "text/plain": [
       "<Figure size 432x288 with 1 Axes>"
      ]
     },
     "metadata": {
      "needs_background": "light"
     },
     "output_type": "display_data"
    }
   ],
   "source": [
    "plt.bar(investor,no_of_funding)\n",
    "plt.title(\"Top 5 Investors\")\n",
    "plt.xlabel(\"Investors -->\")\n",
    "plt.ylabel(\"No. of Investments -->\")\n",
    "plt.xticks(rotation=45)\n",
    "plt.show()        "
   ]
  },
  {
   "cell_type": "code",
   "execution_count": null,
   "metadata": {
    "id": "TVqcICnWeoQu"
   },
   "outputs": [],
   "source": [
    "x=df[\"InvestorsName\"]\n",
    "x=x.values\n",
    "d={} #Declaring and defining an empty dictionary\n",
    "# Iterating through x to get the count of investors\n",
    "for i in range(len(x)):\n",
    "    l=x[i].split(',')\n",
    "    for j in range(len(l)):\n",
    "        if l[j].strip() in d:\n",
    "            d[l[j].strip()]+=1\n",
    "        else:\n",
    "            d[l[j].strip()]=1\n",
    "key_list=list(d.keys()) # Putting keys into list\n",
    "value_list=list(d.values()) # Putting corresponding key values into list\n",
    "value_list.sort()\n",
    "value_list.reverse()        #Sorting the values in descending order\n",
    "xaxis=[]\n",
    "yaxis=[]\n",
    "count=0\n",
    "# Iterating to get top 5 investors\n",
    "for i in value_list:\n",
    "    for key in d:\n",
    "        if(d[key]==i):\n",
    "            print(key,d[key])\n",
    "            xaxis.append(key)\n",
    "            yaxis.append(d[key])\n",
    "            count+=1\n",
    "            break\n",
    "    if count==5:\n",
    "        break        \n",
    "# Plotting bar graph        \n",
    "plt.bar(xaxis,yaxis)\n",
    "plt.title(\"Top 5 Investors\")\n",
    "plt.xlabel(\"Investors -->\")\n",
    "plt.ylabel(\"No. of Investments -->\")\n",
    "plt.xticks(rotation=40)\n",
    "plt.show()        "
   ]
  },
  {
   "cell_type": "code",
   "execution_count": null,
   "metadata": {
    "id": "S4yK6pM6gEtc"
   },
   "outputs": [],
   "source": [
    "import pandas as pd\n",
    "import numpy as np\n",
    "import matplotlib.pyplot as plt\n",
    "\n",
    "df=pd.read_csv('startup_funding.csv', encoding='utf-8')\n",
    "df['InvestorsName'].dropna(inplace=True)\n",
    "d= {}\n",
    "\n",
    "def investor_count(investor):\n",
    "    l = investor.split(',')\n",
    "    for i in l:\n",
    "        i = i.strip()\n",
    "        d[i]=d.get(i,0)+1\n",
    "        \n",
    "df['InvestorsName'].apply(investor_count)\n",
    "\n",
    "investor_name=np.array(list(d.keys()))\n",
    "number_of_fundings=np.array(list(d.values()))\n",
    "\n",
    "ind=number_of_fundings.argsort()[::-1]\n",
    "ind=ind[:5]\n",
    "\n",
    "investor_name=investor_name[ind]\n",
    "number_of_fundings=number_of_fundings[ind]\n",
    "\n",
    "print('Top 5 Investors are:')\n",
    "for i in range(len(investor_name)):\n",
    "    print(investor_name[i],'-',number_of_fundings[i])\n",
    "    \n",
    "plt.bar(investor_name,number_of_fundings)\n",
    "plt.ylabel('Number of Fundings',fontsize=15)\n",
    "plt.title('Investor Versus Number of Fundings',fontsize=17)\n",
    "plt.yticks(fontsize=15)\n",
    "plt.xticks(rotation='vertical',fontsize=15)\n",
    "plt.show()"
   ]
  },
  {
   "cell_type": "code",
   "execution_count": null,
   "metadata": {
    "id": "oyiw_GEqCsLW"
   },
   "outputs": [],
   "source": [
    "import pandas as pd\n",
    "import numpy as np\n",
    "import matplotlib.pyplot as plt\n",
    "\n",
    "df=pd.read_csv('startup_funding.csv', encoding='utf-8')\n",
    "df['InvestorsName'].dropna(inplace=True)\n",
    "d= {}\n",
    "\n",
    "def investor_count(investor):\n",
    "    l = investor.split(',')\n",
    "    for i in l:\n",
    "        i = i.strip()\n",
    "        d[i]=d.get(i,0)+1\n",
    "        \n",
    "df['InvestorsName'].apply(investor_count)\n",
    "\n",
    "investor_name=np.array(list(d.keys()))\n",
    "number_of_fundings=np.array(list(d.values()))\n",
    "\n",
    "ind=number_of_fundings.argsort()[::-1]\n",
    "ind=ind[:5]\n",
    "\n",
    "investor_name=investor_name[ind]\n",
    "number_of_fundings=number_of_fundings[ind]\n",
    "\n",
    "print('Top 5 Investors are:')\n",
    "for i in range(len(investor_name)):\n",
    "    print(investor_name[i],'-',number_of_fundings[i])\n",
    "    \n",
    "plt.bar(investor_name,number_of_fundings)\n",
    "plt.ylabel('Number of Fundings',fontsize=15)\n",
    "plt.title('Investor Versus Number of Fundings',fontsize=17)\n",
    "plt.yticks(fontsize=15)\n",
    "plt.xticks(rotation='vertical',fontsize=15)\n",
    "plt.show()"
   ]
  },
  {
   "cell_type": "markdown",
   "metadata": {
    "id": "tU0zjFPbXMkG"
   },
   "source": [
    "## #3"
   ]
  },
  {
   "cell_type": "markdown",
   "metadata": {
    "id": "IIMX4285XOHs"
   },
   "source": [
    "After re-analysing the dataset you found out that some investors have invested in the same startup at different number of funding rounds. So before finalising the previous list, you want to improvise it by finding the top 5 investors who have invested in different number of startups. This list will be more helpful than your previous list in finding the investment for your friend startup. Find the top 5 investors who have invested maximum number of times in different companies. That means, if one investor has invested multiple times in one startup, count one for that company. There are many errors in startup names. Ignore correcting all, just handle the important ones - Ola, Flipkart, Oyo and Paytm."
   ]
  },
  {
   "cell_type": "code",
   "execution_count": null,
   "metadata": {
    "id": "S4_rNkg4NO6y"
   },
   "outputs": [],
   "source": [
    "path = '/content/drive/MyDrive/Colab Notebooks/14startup_funding.csv'\n",
    "import pandas as pd\n",
    "import numpy as np\n",
    "import matplotlib.pyplot as plt\n",
    "data = pd.read_csv(path)\n",
    "df = data.copy()"
   ]
  },
  {
   "cell_type": "code",
   "execution_count": null,
   "metadata": {
    "id": "1tRs5dqR5sM2"
   },
   "outputs": [],
   "source": [
    "df.dropna(subset=['InvestorsName','StartupName'],inplace=True)\n",
    "df['StartupName'].replace('Flipkart.com','Flipkart',inplace=True)\n",
    "df['StartupName'].replace('Ola Cabs','Ola',inplace=True)\n",
    "df['StartupName'].replace('Olacabs','Ola',inplace=True)\n",
    "df['StartupName'].replace('Oyo Rooms','Oyo',inplace=True)\n",
    "df['StartupName'].replace('Oyorooms','Oyo',inplace=True)\n",
    "df['StartupName'].replace('OyoRooms','Oyo',inplace=True)\n",
    "df['StartupName'].replace('OYO Rooms','Oyo',inplace=True)\n",
    "df['StartupName'].replace('Paytm Marketplace','Paytm',inplace=True)"
   ]
  },
  {
   "cell_type": "code",
   "execution_count": null,
   "metadata": {
    "id": "qSXrshfb5sHd"
   },
   "outputs": [],
   "source": [
    "startup=list(df.StartupName)\n",
    "investor_list=list(df.InvestorsName)\n",
    "\n",
    "d={}\n",
    "for i in range(len(investor_list)):\n",
    "    investor = investor_list[i].split(',')\n",
    "    for name in investor:\n",
    "        name=name.strip()\n",
    "        if name != \"\":\n",
    "            if name in d:\n",
    "                s=d[name]\n",
    "                s.add(startup[i])\n",
    "                d[name]=s\n",
    "            else:\n",
    "                d[name]={startup[i]}"
   ]
  },
  {
   "cell_type": "code",
   "execution_count": null,
   "metadata": {
    "id": "RbYDKcZ1-kGP"
   },
   "outputs": [],
   "source": [
    "for key in d:\n",
    "    d[key]=len(d[key])\n",
    "\n",
    "investor_name=np.array(list(d.keys()))\n",
    "number_of_fundings=np.array(list(d.values()))\n",
    "\n",
    "ind=number_of_fundings.argsort()[::-1]\n",
    "ind=ind[:5]\n",
    "\n",
    "investor_name=investor_name[ind]\n",
    "number_of_fundings=number_of_fundings[ind]"
   ]
  },
  {
   "cell_type": "code",
   "execution_count": null,
   "metadata": {
    "colab": {
     "base_uri": "https://localhost:8080/",
     "height": 541
    },
    "id": "TMGlRu_l5sDH",
    "outputId": "c182c3bd-3eee-46e7-da07-ee338b37d50c"
   },
   "outputs": [
    {
     "name": "stdout",
     "output_type": "stream",
     "text": [
      "Top 5 Investors are:\n",
      "Sequoia Capital - 48\n",
      "Accel Partners - 47\n",
      "Kalaari Capital - 41\n",
      "Indian Angel Network - 40\n",
      "Blume Ventures - 36\n"
     ]
    },
    {
     "data": {
      "image/png": "[encoded data removed]",
      "text/plain": [
       "<Figure size 432x288 with 1 Axes>"
      ]
     },
     "metadata": {
      "needs_background": "light"
     },
     "output_type": "display_data"
    }
   ],
   "source": [
    "print('Top 5 Investors are:')\n",
    "for i in range(len(investor_name)):\n",
    "    print(investor_name[i],'-',number_of_fundings[i])\n",
    "    \n",
    "plt.bar(investor_name,number_of_fundings)\n",
    "plt.ylabel('Number of Fundings',fontsize=15)\n",
    "plt.title('Investor Versus Number of Fundings',fontsize=17)\n",
    "plt.yticks(fontsize=15)\n",
    "plt.xticks(rotation='vertical',fontsize=15)\n",
    "plt.show()"
   ]
  },
  {
   "cell_type": "code",
   "execution_count": null,
   "metadata": {
    "id": "Q71vRgLE_EoX"
   },
   "outputs": [],
   "source": [
    "# Importing required modules\n",
    "import pandas as pd\n",
    "import numpy as np\n",
    "import matplotlib.pyplot as plt\n",
    "import csv\n",
    "# Opening and Reading CSV file\n",
    "file_obj = open(\"startup_funding.csv\") \n",
    "file_data = csv.DictReader(file_obj, skipinitialspace = True)\n",
    "\n",
    "d = {} # Declaring and initialising an empty dictionary\n",
    "# Correcting the required Spellings\n",
    "for row in file_data:\n",
    "    if row[\"StartupName\"] == \"Ola Cabs\" or row[\"StartupName\"] == \"Olacabs\":\n",
    "        row[\"StartupName\"] = \"Ola\"\n",
    "    if row[\"StartupName\"] == \"Flipkart.com\":\n",
    "        row[\"StartupName\"] = \"Flipkart\"\n",
    "    if row[\"StartupName\"] == \"Oyo Rooms\" or row[\"StartupName\"] == \"OyoRooms\" or row[\"StartupName\"] == \"Oyorooms\" or row[\"StartupName\"] == \"OYO Rooms\":\n",
    "        row[\"StartupName\"] = \"Oyo\"\n",
    "    if row[\"StartupName\"] == \"Paytm Marketplace\":\n",
    "        row[\"StartupName\"] = \"Paytm\"\n",
    "    # Filtering the required data\n",
    "    value = row[\"InvestorsName\"].split(\",\")\n",
    "    for i in range(len(value)):\n",
    "        value[i] = value[i].strip()\n",
    "    for i in value:\n",
    "        if(row[\"StartupName\"] != None) and i != \"\" and i != \"Undisclosed Investors\" and i != \"Undisclosed investors\" :\n",
    "            if i in d:\n",
    "                d[i].add(row[\"StartupName\"])\n",
    "            else:\n",
    "                d[i] = set()\n",
    "                d[i].add(row[\"StartupName\"])\n",
    "print(d['Sequoia Capital'])\n",
    "for i in d.keys(): # Substituting the values of key with the length of the values of the key\n",
    "    d[i] = len(d[i])\n",
    "\n",
    "d1 = sorted(d, key = d.get, reverse = True) # Sorting to get top 5 values\n",
    " \n",
    "investors = d1[0:5]\n",
    "num_of_companies = []\n",
    "\n",
    "top_5_investors = d1[0:5]\n",
    "number = []\n",
    "\n",
    "for i in top_5_investors:\n",
    "    number.append(d[i])\n",
    "\n",
    "for i in investors:\n",
    "    num_of_companies.append(d[i])\n",
    "# Plotting bar graph \n",
    "plt.bar(investors, num_of_companies)\n",
    "plt.xlabel(\"Investors-->\")\n",
    "plt.ylabel(\"No. of Investments-->\")\n",
    "plt.title(\"Top 5 Investors in Distinct companies\")\n",
    "plt.xticks(rotation = 15)\n",
    "plt.grid()\n",
    "plt.show()\n",
    "# Printing the Top 5 inverstors\n",
    "for i in investors:\n",
    "    print(i,d[i])"
   ]
  },
  {
   "cell_type": "markdown",
   "metadata": {
    "id": "vzQdWfOAXRsH"
   },
   "source": [
    "## #4"
   ]
  },
  {
   "cell_type": "markdown",
   "metadata": {
    "id": "opGkZtcdXS6B"
   },
   "source": [
    "Even after putting so much effort in finding the probable investors, it didn't turn out to be helpful for your friend. So you went to your investor friend to understand the situation better and your investor friend explained to you about the different Investment Types and their features. This new information will be helpful in finding the right investor. Since your friend startup is at an early stage startup, the best-suited investment type would be - Seed Funding and Crowdfunding. Find the top 5 investors who have invested in a different number of startups and their investment type is Crowdfunding or Seed Funding. Correct spelling of investment types are - \"Private Equity\", \"Seed Funding\", \"Debt Funding\", and \"Crowd Funding\". Keep an eye for any spelling mistake. You can find this by printing unique values from this column. There are many errors in startup names. Ignore correcting all, just handle the important ones - Ola, Flipkart, Oyo and Paytm."
   ]
  },
  {
   "cell_type": "code",
   "execution_count": null,
   "metadata": {
    "id": "tS9oGBpDNOiy"
   },
   "outputs": [],
   "source": [
    "path = '/content/drive/MyDrive/Colab Notebooks/14startup_funding.csv'\n",
    "import pandas as pd\n",
    "import numpy as np\n",
    "import matplotlib.pyplot as plt\n",
    "data = pd.read_csv(path)\n",
    "df = data.copy()"
   ]
  },
  {
   "cell_type": "code",
   "execution_count": null,
   "metadata": {
    "id": "tKT1054I_TDm"
   },
   "outputs": [],
   "source": [
    "df.dropna(subset=['InvestorsName','StartupName','InvestmentType'],inplace=True)\n",
    "df['InvestmentType'].replace('PrivateEquity','Private Equity',inplace=True)\n",
    "df['InvestmentType'].replace('SeedFunding','Seed Funding',inplace=True)\n",
    "df['InvestmentType'].replace('Crowd funding','Crowd Funding',inplace=True)\n",
    "df['InvestorsName'].replace('Undisclosed investors','Undisclosed Investors',inplace=True)\n",
    "df['StartupName'].replace('Flipkart.com','Flipkart',inplace=True)\n",
    "df['StartupName'].replace('Ola Cabs','Ola',inplace=True)\n",
    "df['StartupName'].replace('Olacabs','Ola',inplace=True)\n",
    "df['StartupName'].replace('Ola Cabs','Ola',inplace=True)\n",
    "df['StartupName'].replace('Olacabs','Ola',inplace=True)\n",
    "df['StartupName'].replace('Oyo Rooms','Oyo',inplace=True)\n",
    "df['StartupName'].replace('Oyorooms','Oyo',inplace=True)\n",
    "df['StartupName'].replace('OyoRooms','Oyo',inplace=True)\n",
    "df['StartupName'].replace('OYO Rooms','Oyo',inplace=True)\n",
    "df['StartupName'].replace('Paytm Marketplace','Paytm',inplace=True)\n",
    "\n",
    "df=df[(df.InvestmentType=='Seed Funding') | (df.InvestmentType=='Crowd Funding')]\n",
    "\n",
    "startup=list(df.StartupName)\n",
    "investor_list=list(df.InvestorsName)"
   ]
  },
  {
   "cell_type": "code",
   "execution_count": null,
   "metadata": {
    "id": "0zSZyfGn_TAM"
   },
   "outputs": [],
   "source": [
    "d={}\n",
    "for i in range(len(investor_list)):\n",
    "    investor = investor_list[i].split(',')\n",
    "    for invest in investor:\n",
    "        invest=invest.strip()\n",
    "        if (invest != \"\") and (invest != \"Undisclosed Investors\"):\n",
    "            if invest in d:\n",
    "                s=d[invest]\n",
    "                s.add(startup[i])\n",
    "                d[invest]=s\n",
    "            else:\n",
    "                d[invest]={startup[i]}\n",
    "\n",
    "for key in d:\n",
    "    d[key]=len(d[key])\n",
    "\n",
    "investor_name=np.array(list(d.keys()))\n",
    "number_of_fundings=np.array(list(d.values()))"
   ]
  },
  {
   "cell_type": "code",
   "execution_count": null,
   "metadata": {
    "colab": {
     "base_uri": "https://localhost:8080/"
    },
    "id": "ndeKQZ6Y_S89",
    "outputId": "3d96c45d-0e5c-4dd7-bec1-2550b7790db2"
   },
   "outputs": [
    {
     "name": "stdout",
     "output_type": "stream",
     "text": [
      "Top 5 Investors for Investment type- Seed Funding and Crowd Funding are:\n",
      "Indian Angel Network - 33\n",
      "Rajan Anandan - 23\n",
      "LetsVenture - 16\n",
      "Anupam Mittal - 16\n",
      "Group of Angel Investors - 14\n"
     ]
    }
   ],
   "source": [
    "ind=number_of_fundings.argsort()[::-1]\n",
    "ind=ind[:5]\n",
    "\n",
    "investor_name=investor_name[ind]\n",
    "number_of_fundings=number_of_fundings[ind]\n",
    "\n",
    "print('Top 5 Investors for Investment type- Seed Funding and Crowd Funding are:')\n",
    "for i in range(len(investor_name)):\n",
    "    print(investor_name[i],'-',number_of_fundings[i])"
   ]
  },
  {
   "cell_type": "code",
   "execution_count": null,
   "metadata": {
    "colab": {
     "base_uri": "https://localhost:8080/",
     "height": 462
    },
    "id": "8yQnCnul_S57",
    "outputId": "c0a8ad56-aa6d-4ad0-cab0-9384d2805907"
   },
   "outputs": [
    {
     "data": {
      "image/png": "[encoded data removed]",
      "text/plain": [
       "<Figure size 432x288 with 1 Axes>"
      ]
     },
     "metadata": {
      "needs_background": "light"
     },
     "output_type": "display_data"
    }
   ],
   "source": [
    "plt.bar(investor_name,number_of_fundings)\n",
    "plt.ylabel('Number of Fundings',fontsize=15)\n",
    "plt.title('Investor Versus Number of Fundings',fontsize=17)\n",
    "plt.yticks(fontsize=15)\n",
    "plt.xticks(rotation='vertical',fontsize=15)\n",
    "plt.show()"
   ]
  },
  {
   "cell_type": "code",
   "execution_count": null,
   "metadata": {
    "id": "ikUUhL0R_S25"
   },
   "outputs": [],
   "source": [
    "# importing required modules\n",
    "import pandas as pd\n",
    "import numpy as np\n",
    "import matplotlib.pyplot as plt\n",
    "import csv\n",
    "# Opening and reading CSV file\n",
    "file_obj = open(\"startup_funding.csv\")\n",
    "file_data = csv.DictReader(file_obj, skipinitialspace = True)\n",
    "\n",
    "d = {} # Declaring and initialising an empty dictionary\n",
    "\n",
    "# Correcting the required Spellings\n",
    "\n",
    "for row in file_data:\n",
    "    if row[\"StartupName\"] == \"Ola Cabs\" or row[\"StartupName\"] == \"Olacabs\":\n",
    "        row[\"StartupName\"] = \"Ola\"\n",
    "    if row[\"StartupName\"] == \"Flipkart.com\":\n",
    "        row[\"StartupName\"] = \"Flipkart\"\n",
    "    if row[\"StartupName\"] == \"Oyo Rooms\" or row[\"StartupName\"] == \"OyoRooms\" or row[\"StartupName\"] == \"Oyorooms\" or row[\"StartupName\"] == \"OYO Rooms\":\n",
    "        row[\"StartupName\"] = \"Oyo\"\n",
    "    if row[\"StartupName\"] == \"Paytm Marketplace\":\n",
    "        row[\"StartupName\"] = \"Paytm\"\n",
    "    if row[\"InvestmentType\"]==\"SeedFunding\":\n",
    "         row[\"InvestmentType\"]=\"Seed Funding\"\n",
    "    if row[\"InvestmentType\"]==\"PrivateEquity\":\n",
    "         row[\"InvestmentType\"]=\"Private Equity\"\n",
    "    if  row[\"InvestmentType\"]==\"Crowd funding\":\n",
    "         row[\"InvestmentType\"]=\"Crowd Funding\"\n",
    "    # Filtering the required data  \n",
    "    value = row[\"InvestorsName\"].split(\",\")\n",
    "    for i in range(len(value)):\n",
    "        value[i] = value[i].strip()\n",
    "    for i in value:\n",
    "        if(row[\"StartupName\"] != None) and i != \"\" and i != \"Undisclosed Investors\" and i != \"Undisclosed investors\" :\n",
    "            if( row[\"InvestmentType\"]==\"Seed Funding\") or (row[\"InvestmentType\"]==\"Crowd Funding\"):\n",
    "                                         if i in d:\n",
    "                                            d[i].add(row[\"StartupName\"])\n",
    "                                         else:\n",
    "                                            d[i] = set()\n",
    "                                            d[i].add(row[\"StartupName\"])\n",
    "\n",
    "for i in d.keys(): # Substituting the values of key with the length of the values of the key\n",
    "\n",
    "    d[i] = len(d[i]) \n",
    "\n",
    "d1 = sorted(d, key = d.get, reverse = True) # Sorting to get top 5 values\n",
    "investors = d1[0:5]\n",
    "num_of_companies = []\n",
    "\n",
    "top_5_investors = d1[0:5]\n",
    "number = []\n",
    "\n",
    "for i in top_5_investors:\n",
    "    number.append(d[i])\n",
    "\n",
    "for i in investors:\n",
    "    num_of_companies.append(d[i])\n",
    "# Plotting Bar Graph\n",
    "plt.bar(investors, num_of_companies)\n",
    "plt.xlabel(\"Investors -->\")\n",
    "plt.ylabel(\"NO. of Investments-->\")\n",
    "plt.title(\"Top 5 Investors in Distinct companies  with Investment Type as Crowd Funding or Seed Funding\")\n",
    "plt.xticks(rotation = 15)\n",
    "plt.grid()\n",
    "\n",
    "plt.show()\n",
    "# Printing the Top 5 required investors\n",
    "for i in investors:\n",
    "    print(i,d[i])"
   ]
  },
  {
   "cell_type": "markdown",
   "metadata": {
    "id": "7BWgUyI-XWNV"
   },
   "source": [
    "## #5"
   ]
  },
  {
   "cell_type": "markdown",
   "metadata": {
    "id": "WUqYmiJrXXa2"
   },
   "source": [
    "Due to your immense help, your friend startup successfully got seed funding and it is on the operational mode. Now your friend wants to expand his startup and he is looking for new investors for his startup. Now you again come as a saviour to help your friend and want to create a list of probable new new investors. Before moving forward you remember your investor friend advice that finding the investors by analysing the investment type. Since your friend startup is not in early phase it is in growth stage so the best-suited investment type is Private Equity. Find the top 5 investors who have invested in a different number of startups and their investment type is Private Equity. Correct spelling of investment types are - \"Private Equity\", \"Seed Funding\", \"Debt Funding\", and \"Crowd Funding\". Keep an eye for any spelling mistake. You can find this by printing unique values from this column.There are many errors in startup names. Ignore correcting all, just handle the important ones - Ola, Flipkart, Oyo and Paytm."
   ]
  },
  {
   "cell_type": "code",
   "execution_count": null,
   "metadata": {
    "id": "AHfZ2iHlNOIP"
   },
   "outputs": [],
   "source": [
    "path = '/content/drive/MyDrive/Colab Notebooks/14startup_funding.csv'\n",
    "import pandas as pd\n",
    "import numpy as np\n",
    "import matplotlib.pyplot as plt\n",
    "data = pd.read_csv(path)\n",
    "df = data.copy()"
   ]
  },
  {
   "cell_type": "code",
   "execution_count": null,
   "metadata": {
    "id": "ymfKjqUUA-G1"
   },
   "outputs": [],
   "source": [
    "df.dropna(subset=['InvestorsName','StartupName','InvestmentType'],inplace=True)\n",
    "df['InvestmentType'].replace('PrivateEquity','Private Equity',inplace=True)\n",
    "df['InvestmentType'].replace('SeedFunding','Seed Funding',inplace=True)\n",
    "df['InvestmentType'].replace('Crowd funding','Crowd Funding',inplace=True)\n",
    "df['InvestorsName'].replace('Undisclosed investors','Undisclosed Investors',inplace=True)\n",
    "df['StartupName'].replace('Flipkart.com','Flipkart',inplace=True)\n",
    "df['StartupName'].replace('Ola Cabs','Ola',inplace=True)\n",
    "df['StartupName'].replace('Olacabs','Ola',inplace=True)\n",
    "df['StartupName'].replace('Ola Cabs','Ola',inplace=True)\n",
    "df['StartupName'].replace('Olacabs','Ola',inplace=True)\n",
    "df['StartupName'].replace('Oyo Rooms','Oyo',inplace=True)\n",
    "df['StartupName'].replace('Oyorooms','Oyo',inplace=True)\n",
    "df['StartupName'].replace('OyoRooms','Oyo',inplace=True)\n",
    "df['StartupName'].replace('OYO Rooms','Oyo',inplace=True)\n",
    "df['StartupName'].replace('Paytm Marketplace','Paytm',inplace=True)\n",
    "\n",
    "df=df[df.InvestmentType=='Private Equity']\n",
    "\n",
    "startup=list(df.StartupName)\n",
    "investor_list=list(df.InvestorsName)"
   ]
  },
  {
   "cell_type": "code",
   "execution_count": null,
   "metadata": {
    "id": "Q-WhYjpLA96R"
   },
   "outputs": [],
   "source": [
    "d={}\n",
    "for i in range(len(investor_list)):\n",
    "    investor = investor_list[i].split(',')\n",
    "    for invest in investor:\n",
    "        invest=invest.strip()\n",
    "        if (invest != \"\") and (invest != \"Undisclosed Investors\"):\n",
    "            if invest in d:\n",
    "                s=d[invest]\n",
    "                s.add(startup[i])\n",
    "                d[invest]=s\n",
    "            else:\n",
    "                d[invest]={startup[i]}\n",
    "\n",
    "for key in d:\n",
    "    d[key]=len(d[key])\n",
    "\n",
    "investor_name=np.array(list(d.keys()))\n",
    "number_of_fundings=np.array(list(d.values()))"
   ]
  },
  {
   "cell_type": "code",
   "execution_count": null,
   "metadata": {
    "colab": {
     "base_uri": "https://localhost:8080/"
    },
    "id": "qTONtkiLA92X",
    "outputId": "5a386d95-dad5-43f9-dce7-03dfae9b1fce"
   },
   "outputs": [
    {
     "name": "stdout",
     "output_type": "stream",
     "text": [
      "Top 5 Investors for Investment type- Private Equity are:\n",
      "Sequoia Capital - 45\n",
      "Accel Partners - 43\n",
      "Kalaari Capital - 35\n",
      "Blume Ventures - 27\n",
      "SAIF Partners - 24\n"
     ]
    }
   ],
   "source": [
    "ind=number_of_fundings.argsort()[::-1]\n",
    "ind=ind[:5]\n",
    "\n",
    "investor_name=investor_name[ind]\n",
    "number_of_fundings=number_of_fundings[ind]\n",
    "\n",
    "print('Top 5 Investors for Investment type- Private Equity are:')\n",
    "for i in range(len(investor_name)):\n",
    "    print(investor_name[i],'-',number_of_fundings[i])"
   ]
  },
  {
   "cell_type": "code",
   "execution_count": null,
   "metadata": {
    "colab": {
     "base_uri": "https://localhost:8080/",
     "height": 394
    },
    "id": "7JD1VXi-A9zJ",
    "outputId": "591e3b09-8ee8-46be-afca-c47552e8594e"
   },
   "outputs": [
    {
     "data": {
      "image/png": "[encoded data removed]",
      "text/plain": [
       "<Figure size 432x288 with 1 Axes>"
      ]
     },
     "metadata": {
      "needs_background": "light"
     },
     "output_type": "display_data"
    }
   ],
   "source": [
    "plt.bar(investor_name,number_of_fundings)\n",
    "plt.ylabel('Number of Fundings',fontsize=15)\n",
    "plt.title('Investor Versus Number of Fundings',fontsize=17)\n",
    "plt.yticks(fontsize=15)\n",
    "plt.xticks(rotation='vertical',fontsize=15)\n",
    "plt.show()"
   ]
  },
  {
   "cell_type": "code",
   "execution_count": null,
   "metadata": {
    "id": "9-tgCN2ABdD5"
   },
   "outputs": [],
   "source": [
    "# importing required modules\n",
    "import pandas as pd\n",
    "import numpy as np\n",
    "import matplotlib.pyplot as plt\n",
    "import csv\n",
    "# Opening and reading the CSV file\n",
    "file_obj = open(\"startup_funding.csv\")\n",
    "file_data = csv.DictReader(file_obj, skipinitialspace = True)\n",
    "\n",
    "d = {} # Declaring and initialising an empty dictionary\n",
    "\n",
    "# Correcting the required Spellings\n",
    "\n",
    "for row in file_data:\n",
    "    if row[\"StartupName\"] == \"Ola Cabs\" or row[\"StartupName\"] == \"Olacabs\":\n",
    "        row[\"StartupName\"] = \"Ola\"\n",
    "    if row[\"StartupName\"] == \"Flipkart.com\":\n",
    "        row[\"StartupName\"] = \"Flipkart\"\n",
    "    if row[\"StartupName\"] == \"Oyo Rooms\" or row[\"StartupName\"] == \"OyoRooms\" or row[\"StartupName\"] == \"Oyorooms\" or row[\"StartupName\"] == \"OYO Rooms\":\n",
    "        row[\"StartupName\"] = \"Oyo\"\n",
    "    if row[\"StartupName\"] == \"Paytm Marketplace\":\n",
    "        row[\"StartupName\"] = \"Paytm\"\n",
    "    if row[\"InvestmentType\"]==\"SeedFunding\":\n",
    "         row[\"InvestmentType\"]=\"Seed Funding\"\n",
    "    if row[\"InvestmentType\"]==\"PrivateEquity\":\n",
    "         row[\"InvestmentType\"]=\"Private Equity\"\n",
    "    if  row[\"InvestmentType\"]==\"Crowd funding\":\n",
    "         row[\"InvestmentType\"]=\"Crowd Funding\"\n",
    "     # Filtering the required data   \n",
    "    value = row[\"InvestorsName\"].split(\",\")\n",
    "    for i in range(len(value)):\n",
    "        value[i] = value[i].strip()\n",
    "    for i in value:\n",
    "        if(row[\"StartupName\"] != None) and i != \"\" and i != \"Undisclosed Investors\" and i != \"Undisclosed investors\" :\n",
    "            if( row[\"InvestmentType\"]==\"Private Equity\"):\n",
    "                                         if i in d:\n",
    "                                            d[i].add(row[\"StartupName\"])\n",
    "                                         else:\n",
    "                                            d[i] = set()\n",
    "                                            d[i].add(row[\"StartupName\"])\n",
    "\n",
    "for i in d.keys():  #Substituting the values of key with the length of the values of the key\n",
    "    d[i] = len(d[i])\n",
    "\n",
    "d1 = sorted(d, key = d.get, reverse = True) #  Sorting to get top 5 values\n",
    "\n",
    "investors = d1[0:5]\n",
    "num_of_companies = []\n",
    "\n",
    "top_5_investors = d1[0:5]\n",
    "number = []\n",
    "\n",
    "for i in top_5_investors:\n",
    "    number.append(d[i])\n",
    "\n",
    "for i in investors:\n",
    "    num_of_companies.append(d[i])\n",
    "# Plotting the Bar graph\n",
    "plt.bar(investors, num_of_companies)\n",
    "plt.xlabel(\"Investors-->\")\n",
    "plt.ylabel(\"No. of Investments-->\")\n",
    "plt.title(\"Top 5 Investors in Distinct companies with Investment Type as Private Equity\")\n",
    "plt.xticks(rotation = 15)\n",
    "plt.grid()\n",
    "\n",
    "plt.show()\n",
    "# Printing the required top 5 investors\n",
    "for i in investors:\n",
    "    print(i,d[i])"
   ]
  },
  {
   "cell_type": "code",
   "execution_count": null,
   "metadata": {
    "id": "lKRNKQQhNNOa"
   },
   "outputs": [],
   "source": [
    "path = '/content/drive/MyDrive/Colab Notebooks/14startup_funding.csv'\n",
    "import pandas as pd\n",
    "import numpy as np\n",
    "import matplotlib.pyplot as plt\n",
    "data = pd.read_csv(path)\n",
    "df = data.copy()"
   ]
  }
 ],
 "metadata": {
  "colab": {
   "collapsed_sections": [
    "62-l0JlOKKu1",
    "ar7n2EuAKXWK",
    "El8GvcgN2WHN",
    "Sb0soDZ7tfhy",
    "nLMXS5Vutj26",
    "JZFWhIaPE05e",
    "oRIzLbHyu9jB",
    "4qp2Y0pMvYp6",
    "HAEPl7H3wA8l",
    "AMr8ABZRe7eZ",
    "xvIUlI7mwq8V",
    "J7AMxZobwAsM",
    "XjzFaO_J0wr0",
    "j-SJ-8i912va",
    "M0lDWj9l3IO4",
    "utB1OwRvLLUK",
    "yAMTba4lNDAe",
    "xqdGwHrpXC0L",
    "tU0zjFPbXMkG",
    "vzQdWfOAXRsH",
    "7BWgUyI-XWNV"
   ],
   "provenance": []
  },
  "kernelspec": {
   "display_name": "Python 3 (ipykernel)",
   "language": "python",
   "name": "python3"
  },
  "language_info": {
   "codemirror_mode": {
    "name": "ipython",
    "version": 3
   },
   "file_extension": ".py",
   "mimetype": "text/x-python",
   "name": "python",
   "nbconvert_exporter": "python",
   "pygments_lexer": "ipython3",
   "version": "3.9.7"
  }
 },
 "nbformat": 4,
 "nbformat_minor": 1
}
